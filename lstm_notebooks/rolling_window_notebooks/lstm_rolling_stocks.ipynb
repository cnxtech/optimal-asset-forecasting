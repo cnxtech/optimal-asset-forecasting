{
  "nbformat": 4,
  "nbformat_minor": 0,
  "metadata": {
    "colab": {
      "name": "lstm_stocks.ipynb",
      "provenance": [],
      "collapsed_sections": []
    },
    "kernelspec": {
      "name": "python3",
      "display_name": "Python 3"
    },
    "language_info": {
      "name": "python"
    }
  },
  "cells": [
    {
      "cell_type": "markdown",
      "metadata": {
        "id": "d6kk8vOtZll2"
      },
      "source": [
        "# LSTM Model with Rolling Window for Amazon, Google and Microsoft Stocks"
      ]
    },
    {
      "cell_type": "code",
      "metadata": {
        "id": "UJFmtjsqaoLS"
      },
      "source": [
        "# Import libraries\n",
        "from pathlib import Path\n",
        "import pandas as pd\n",
        "import numpy as np\n",
        "import hvplot.pandas\n",
        "import math\n",
        "from sklearn.metrics import mean_squared_error\n",
        "from sklearn.preprocessing import MinMaxScaler\n",
        "from tensorflow.keras.models import Sequential\n",
        "from tensorflow.keras.layers import LSTM, Dense, Dropout"
      ],
      "execution_count": null,
      "outputs": []
    },
    {
      "cell_type": "code",
      "metadata": {
        "id": "nOGawCBNf7mN"
      },
      "source": [
        "# Assign random seed for reproducibility \n",
        "from numpy.random import seed\n",
        "seed(1)\n",
        "from tensorflow import random\n",
        "random.set_seed(2)"
      ],
      "execution_count": null,
      "outputs": []
    },
    {
      "cell_type": "code",
      "metadata": {
        "colab": {
          "base_uri": "https://localhost:8080/"
        },
        "id": "9n21iD2MbjDQ",
        "outputId": "63716b2b-096a-4f7e-e69c-0c514659e16d"
      },
      "source": [
        "# Mount Drive\n",
        "from google.colab import drive\n",
        "drive.mount(\"/content/drive\")"
      ],
      "execution_count": null,
      "outputs": [
        {
          "output_type": "stream",
          "text": [
            "Drive already mounted at /content/drive; to attempt to forcibly remount, call drive.mount(\"/content/drive\", force_remount=True).\n"
          ],
          "name": "stdout"
        }
      ]
    },
    {
      "cell_type": "markdown",
      "metadata": {
        "id": "PD8aE3Rbi0V8"
      },
      "source": [
        "## Data Clean Up"
      ]
    },
    {
      "cell_type": "code",
      "metadata": {
        "colab": {
          "base_uri": "https://localhost:8080/",
          "height": 235
        },
        "id": "vZQud5PFaqLA",
        "outputId": "4f3b8ad7-7585-41c4-d5b4-37100df18092"
      },
      "source": [
        "# Define CSV path and write to a Dataframe\n",
        "csv_path = Path(\"/content/drive/MyDrive/Group_Project_2/AMZN_GOOG_MSFT_historical_data.csv\")\n",
        "stocks_df = pd.read_csv(csv_path, index_col=\"Date\", infer_datetime_format=True, parse_dates=True)\n",
        "stocks_df.head()"
      ],
      "execution_count": null,
      "outputs": [
        {
          "output_type": "execute_result",
          "data": {
            "text/html": [
              "<div>\n",
              "<style scoped>\n",
              "    .dataframe tbody tr th:only-of-type {\n",
              "        vertical-align: middle;\n",
              "    }\n",
              "\n",
              "    .dataframe tbody tr th {\n",
              "        vertical-align: top;\n",
              "    }\n",
              "\n",
              "    .dataframe thead th {\n",
              "        text-align: right;\n",
              "    }\n",
              "</style>\n",
              "<table border=\"1\" class=\"dataframe\">\n",
              "  <thead>\n",
              "    <tr style=\"text-align: right;\">\n",
              "      <th></th>\n",
              "      <th>AMZN</th>\n",
              "      <th>MSFT</th>\n",
              "      <th>GOOGL</th>\n",
              "    </tr>\n",
              "    <tr>\n",
              "      <th>Date</th>\n",
              "      <th></th>\n",
              "      <th></th>\n",
              "      <th></th>\n",
              "    </tr>\n",
              "  </thead>\n",
              "  <tbody>\n",
              "    <tr>\n",
              "      <th>2016-01-04</th>\n",
              "      <td>636.73</td>\n",
              "      <td>54.790</td>\n",
              "      <td>759.41</td>\n",
              "    </tr>\n",
              "    <tr>\n",
              "      <th>2016-01-05</th>\n",
              "      <td>633.79</td>\n",
              "      <td>55.050</td>\n",
              "      <td>761.52</td>\n",
              "    </tr>\n",
              "    <tr>\n",
              "      <th>2016-01-06</th>\n",
              "      <td>632.81</td>\n",
              "      <td>54.075</td>\n",
              "      <td>759.30</td>\n",
              "    </tr>\n",
              "    <tr>\n",
              "      <th>2016-01-07</th>\n",
              "      <td>607.84</td>\n",
              "      <td>52.190</td>\n",
              "      <td>741.00</td>\n",
              "    </tr>\n",
              "    <tr>\n",
              "      <th>2016-01-08</th>\n",
              "      <td>607.23</td>\n",
              "      <td>52.330</td>\n",
              "      <td>730.92</td>\n",
              "    </tr>\n",
              "  </tbody>\n",
              "</table>\n",
              "</div>"
            ],
            "text/plain": [
              "              AMZN    MSFT   GOOGL\n",
              "Date                              \n",
              "2016-01-04  636.73  54.790  759.41\n",
              "2016-01-05  633.79  55.050  761.52\n",
              "2016-01-06  632.81  54.075  759.30\n",
              "2016-01-07  607.84  52.190  741.00\n",
              "2016-01-08  607.23  52.330  730.92"
            ]
          },
          "metadata": {
            "tags": []
          },
          "execution_count": 28
        }
      ]
    },
    {
      "cell_type": "code",
      "metadata": {
        "id": "a0_6JI98eWMf"
      },
      "source": [
        "# Create individual DataFrames\n",
        "amzn_df = stocks_df.drop(columns=['MSFT', 'GOOGL'])\n",
        "msft_df = stocks_df.drop(columns=['AMZN', 'GOOGL'])\n",
        "googl_df = stocks_df.drop(columns=['MSFT', 'AMZN'])"
      ],
      "execution_count": null,
      "outputs": []
    },
    {
      "cell_type": "code",
      "metadata": {
        "id": "Bm7b1cLgwz-u"
      },
      "source": [
        "# Create list of DataFrames\n",
        "dfs = [amzn_df, msft_df, googl_df]"
      ],
      "execution_count": null,
      "outputs": []
    },
    {
      "cell_type": "markdown",
      "metadata": {
        "id": "PsEsPbQji5Gr"
      },
      "source": [
        "## Data Prep"
      ]
    },
    {
      "cell_type": "code",
      "metadata": {
        "id": "6a5IeY1chTNN"
      },
      "source": [
        "# This function accepts the column number for the features (X) and the target (y)\n",
        "# It chunks the data up with a rolling window of Xt-n to predict Xt\n",
        "# It returns a numpy array of X any y\n",
        "def window_data(df, window, feature_col_number, target_col_number):\n",
        "    X = []\n",
        "    y = []\n",
        "    for i in range(len(df) - window - 1):\n",
        "        features = df.iloc[i:(i + window), feature_col_number]\n",
        "        target = df.iloc[(i + window), target_col_number]\n",
        "        X.append(features)\n",
        "        y.append(target)\n",
        "    return np.array(X), np.array(y).reshape(-1, 1)"
      ],
      "execution_count": null,
      "outputs": []
    },
    {
      "cell_type": "code",
      "metadata": {
        "id": "ALv6cE3GlXpD"
      },
      "source": [
        "# Build the LSTM model. \n",
        "\n",
        "def lstm_model(X_train):\n",
        "  model = Sequential()\n",
        "\n",
        "  number_units = 35\n",
        "  dropout_fraction = 0.3\n",
        "\n",
        "  # Layer 1\n",
        "  model.add(LSTM(\n",
        "      units=number_units,\n",
        "      return_sequences=True,\n",
        "      input_shape=(X_train.shape[1], 1))\n",
        "      )\n",
        "  model.add(Dropout(dropout_fraction))\n",
        "  # Layer 2\n",
        "  model.add(LSTM(units=number_units, return_sequences=True))\n",
        "  model.add(Dropout(dropout_fraction))\n",
        "  # Layer 3\n",
        "  model.add(LSTM(units=number_units, return_sequences=True))\n",
        "  model.add(Dropout(dropout_fraction))\n",
        "  # Layer 4\n",
        "  model.add(LSTM(units=number_units))\n",
        "  model.add(Dropout(dropout_fraction))\n",
        "\n",
        "  model.add(Dense(1))\n",
        "\n",
        "  return model\n",
        "  "
      ],
      "execution_count": null,
      "outputs": []
    },
    {
      "cell_type": "markdown",
      "metadata": {
        "id": "-JwyAisqi74F"
      },
      "source": [
        "## Run the Model"
      ]
    },
    {
      "cell_type": "code",
      "metadata": {
        "colab": {
          "base_uri": "https://localhost:8080/"
        },
        "id": "hB42HF2zgeP_",
        "outputId": "e5b7bf32-c538-496b-eba9-45609dcff899"
      },
      "source": [
        "# Predict Closing Prices using a day window of previous closing prices\n",
        "window_size = 3\n",
        "feature_column = 0\n",
        "target_column = 0\n",
        "\n",
        "scalers = {}\n",
        "test = []\n",
        "pred_results = []\n",
        "\n",
        "for df in dfs:\n",
        "  scaler = MinMaxScaler()\n",
        "\n",
        "  # Slice the data after the shock\n",
        "  df = df.loc['2020-03-01': '2021-05-03']\n",
        "\n",
        "  # Call the function to create rolling window data\n",
        "  X, y = window_data(df, window_size, feature_column, target_column)\n",
        "\n",
        "  # Split into training and testing sets\n",
        "  split_ratio = 0.8\n",
        "  split = int(split_ratio * len(X))\n",
        "  X_train = X[: split]\n",
        "  X_test = X[split:]\n",
        "  y_train = y[: split]\n",
        "  y_test = y[split:]\n",
        "\n",
        "  # Scale the data\n",
        "  scaler.fit(X)\n",
        "  X_train = scaler.transform(X_train)\n",
        "  X_test = scaler.transform(X_test)\n",
        "  scaler.fit(y)\n",
        "  y_train = scaler.transform(y_train)\n",
        "  y_test = scaler.transform(y_test)\n",
        "  \n",
        "  test.append(y_test)\n",
        "\n",
        "  scalers[df.columns[0]]=scaler\n",
        "\n",
        "  # Reshape the data\n",
        "  X_train = X_train.reshape((X_train.shape[0], X_train.shape[1], 1))\n",
        "  X_test = X_test.reshape((X_test.shape[0], X_test.shape[1], 1))\n",
        "\n",
        "  # Call the LSTM model function\n",
        "  model = lstm_model(X_train)\n",
        "\n",
        "  # Compile the model\n",
        "  model.compile(optimizer=\"adamax\", loss=\"mean_squared_error\")\n",
        "\n",
        "  # Fit the model\n",
        "  model.fit(X_train, y_train, epochs=25, shuffle=False, batch_size=2)\n",
        "\n",
        "  print(model.evaluate(X_test, y_test))\n",
        "\n",
        "  # Make predictions\n",
        "  predicted = model.predict(X_test)\n",
        "\n",
        "  pred_results.append(predicted)"
      ],
      "execution_count": null,
      "outputs": [
        {
          "output_type": "stream",
          "text": [
            "Epoch 1/25\n",
            "117/117 [==============================] - 6s 6ms/step - loss: 0.0774\n",
            "Epoch 2/25\n",
            "117/117 [==============================] - 1s 6ms/step - loss: 0.1242\n",
            "Epoch 3/25\n",
            "117/117 [==============================] - 1s 6ms/step - loss: 0.1113\n",
            "Epoch 4/25\n",
            "117/117 [==============================] - 1s 6ms/step - loss: 0.0849\n",
            "Epoch 5/25\n",
            "117/117 [==============================] - 1s 6ms/step - loss: 0.0713\n",
            "Epoch 6/25\n",
            "117/117 [==============================] - 1s 6ms/step - loss: 0.0650\n",
            "Epoch 7/25\n",
            "117/117 [==============================] - 1s 6ms/step - loss: 0.0486\n",
            "Epoch 8/25\n",
            "117/117 [==============================] - 1s 6ms/step - loss: 0.0507\n",
            "Epoch 9/25\n",
            "117/117 [==============================] - 1s 6ms/step - loss: 0.0348\n",
            "Epoch 10/25\n",
            "117/117 [==============================] - 1s 6ms/step - loss: 0.0316\n",
            "Epoch 11/25\n",
            "117/117 [==============================] - 1s 6ms/step - loss: 0.0256\n",
            "Epoch 12/25\n",
            "117/117 [==============================] - 1s 6ms/step - loss: 0.0194\n",
            "Epoch 13/25\n",
            "117/117 [==============================] - 1s 6ms/step - loss: 0.0215\n",
            "Epoch 14/25\n",
            "117/117 [==============================] - 1s 6ms/step - loss: 0.0199\n",
            "Epoch 15/25\n",
            "117/117 [==============================] - 1s 6ms/step - loss: 0.0169\n",
            "Epoch 16/25\n",
            "117/117 [==============================] - 1s 6ms/step - loss: 0.0166\n",
            "Epoch 17/25\n",
            "117/117 [==============================] - 1s 6ms/step - loss: 0.0126\n",
            "Epoch 18/25\n",
            "117/117 [==============================] - 1s 6ms/step - loss: 0.0117\n",
            "Epoch 19/25\n",
            "117/117 [==============================] - 1s 6ms/step - loss: 0.0142\n",
            "Epoch 20/25\n",
            "117/117 [==============================] - 1s 6ms/step - loss: 0.0115\n",
            "Epoch 21/25\n",
            "117/117 [==============================] - 1s 6ms/step - loss: 0.0111\n",
            "Epoch 22/25\n",
            "117/117 [==============================] - 1s 6ms/step - loss: 0.0120\n",
            "Epoch 23/25\n",
            "117/117 [==============================] - 1s 6ms/step - loss: 0.0121\n",
            "Epoch 24/25\n",
            "117/117 [==============================] - 1s 6ms/step - loss: 0.0118\n",
            "Epoch 25/25\n",
            "117/117 [==============================] - 1s 6ms/step - loss: 0.0111\n",
            "2/2 [==============================] - 1s 7ms/step - loss: 0.0015\n",
            "0.0014714553253725171\n",
            "Epoch 1/25\n",
            "117/117 [==============================] - 6s 6ms/step - loss: 0.0442\n",
            "Epoch 2/25\n",
            "117/117 [==============================] - 1s 6ms/step - loss: 0.0823\n",
            "Epoch 3/25\n",
            "117/117 [==============================] - 1s 6ms/step - loss: 0.0752\n",
            "Epoch 4/25\n",
            "117/117 [==============================] - 1s 6ms/step - loss: 0.0576\n",
            "Epoch 5/25\n",
            "117/117 [==============================] - 1s 6ms/step - loss: 0.0450\n",
            "Epoch 6/25\n",
            "117/117 [==============================] - 1s 6ms/step - loss: 0.0415\n",
            "Epoch 7/25\n",
            "117/117 [==============================] - 1s 6ms/step - loss: 0.0312\n",
            "Epoch 8/25\n",
            "117/117 [==============================] - 1s 6ms/step - loss: 0.0299\n",
            "Epoch 9/25\n",
            "117/117 [==============================] - 1s 6ms/step - loss: 0.0213\n",
            "Epoch 10/25\n",
            "117/117 [==============================] - 1s 6ms/step - loss: 0.0188\n",
            "Epoch 11/25\n",
            "117/117 [==============================] - 1s 6ms/step - loss: 0.0163\n",
            "Epoch 12/25\n",
            "117/117 [==============================] - 1s 6ms/step - loss: 0.0130\n",
            "Epoch 13/25\n",
            "117/117 [==============================] - 1s 5ms/step - loss: 0.0120\n",
            "Epoch 14/25\n",
            "117/117 [==============================] - 1s 6ms/step - loss: 0.0139\n",
            "Epoch 15/25\n",
            "117/117 [==============================] - 1s 6ms/step - loss: 0.0131\n",
            "Epoch 16/25\n",
            "117/117 [==============================] - 1s 6ms/step - loss: 0.0115\n",
            "Epoch 17/25\n",
            "117/117 [==============================] - 1s 6ms/step - loss: 0.0099\n",
            "Epoch 18/25\n",
            "117/117 [==============================] - 1s 6ms/step - loss: 0.0084\n",
            "Epoch 19/25\n",
            "117/117 [==============================] - 1s 6ms/step - loss: 0.0103\n",
            "Epoch 20/25\n",
            "117/117 [==============================] - 1s 6ms/step - loss: 0.0085\n",
            "Epoch 21/25\n",
            "117/117 [==============================] - 1s 6ms/step - loss: 0.0087\n",
            "Epoch 22/25\n",
            "117/117 [==============================] - 1s 6ms/step - loss: 0.0094\n",
            "Epoch 23/25\n",
            "117/117 [==============================] - 1s 6ms/step - loss: 0.0082\n",
            "Epoch 24/25\n",
            "117/117 [==============================] - 1s 6ms/step - loss: 0.0095\n",
            "Epoch 25/25\n",
            "117/117 [==============================] - 1s 6ms/step - loss: 0.0084\n",
            "2/2 [==============================] - 1s 8ms/step - loss: 0.0018\n",
            "0.001762308063916862\n",
            "Epoch 1/25\n",
            "117/117 [==============================] - 6s 6ms/step - loss: 0.0121\n",
            "Epoch 2/25\n",
            "117/117 [==============================] - 1s 6ms/step - loss: 0.0710\n",
            "Epoch 3/25\n",
            "117/117 [==============================] - 1s 6ms/step - loss: 0.0509\n",
            "Epoch 4/25\n",
            "117/117 [==============================] - 1s 6ms/step - loss: 0.0428\n",
            "Epoch 5/25\n",
            "117/117 [==============================] - 1s 6ms/step - loss: 0.0352\n",
            "Epoch 6/25\n",
            "117/117 [==============================] - 1s 6ms/step - loss: 0.0291\n",
            "Epoch 7/25\n",
            "117/117 [==============================] - 1s 6ms/step - loss: 0.0187\n",
            "Epoch 8/25\n",
            "117/117 [==============================] - 1s 6ms/step - loss: 0.0181\n",
            "Epoch 9/25\n",
            "117/117 [==============================] - 1s 6ms/step - loss: 0.0114\n",
            "Epoch 10/25\n",
            "117/117 [==============================] - 1s 6ms/step - loss: 0.0107\n",
            "Epoch 11/25\n",
            "117/117 [==============================] - 1s 6ms/step - loss: 0.0073\n",
            "Epoch 12/25\n",
            "117/117 [==============================] - 1s 6ms/step - loss: 0.0065\n",
            "Epoch 13/25\n",
            "117/117 [==============================] - 1s 6ms/step - loss: 0.0063\n",
            "Epoch 14/25\n",
            "117/117 [==============================] - 1s 6ms/step - loss: 0.0067\n",
            "Epoch 15/25\n",
            "117/117 [==============================] - 1s 6ms/step - loss: 0.0063\n",
            "Epoch 16/25\n",
            "117/117 [==============================] - 1s 6ms/step - loss: 0.0046\n",
            "Epoch 17/25\n",
            "117/117 [==============================] - 1s 6ms/step - loss: 0.0045\n",
            "Epoch 18/25\n",
            "117/117 [==============================] - 1s 6ms/step - loss: 0.0042\n",
            "Epoch 19/25\n",
            "117/117 [==============================] - 1s 6ms/step - loss: 0.0042\n",
            "Epoch 20/25\n",
            "117/117 [==============================] - 1s 6ms/step - loss: 0.0035\n",
            "Epoch 21/25\n",
            "117/117 [==============================] - 1s 6ms/step - loss: 0.0030\n",
            "Epoch 22/25\n",
            "117/117 [==============================] - 1s 6ms/step - loss: 0.0046\n",
            "Epoch 23/25\n",
            "117/117 [==============================] - 1s 6ms/step - loss: 0.0041\n",
            "Epoch 24/25\n",
            "117/117 [==============================] - 1s 6ms/step - loss: 0.0047\n",
            "Epoch 25/25\n",
            "117/117 [==============================] - 1s 6ms/step - loss: 0.0050\n",
            "2/2 [==============================] - 2s 5ms/step - loss: 0.0012\n",
            "0.0011697807349264622\n"
          ],
          "name": "stdout"
        }
      ]
    },
    {
      "cell_type": "markdown",
      "metadata": {
        "id": "MFLVuTIJi-Qo"
      },
      "source": [
        "## Review Results"
      ]
    },
    {
      "cell_type": "code",
      "metadata": {
        "id": "UaafpvytmkNj"
      },
      "source": [
        "# Recover the original Amazon prices\n",
        "amzn_predicted = scalers[\"AMZN\"].inverse_transform(pred_results[0]).ravel()\n",
        "amzn_real = scalers[\"AMZN\"].inverse_transform(test[0].reshape(-1, 1)).ravel()"
      ],
      "execution_count": null,
      "outputs": []
    },
    {
      "cell_type": "code",
      "metadata": {
        "id": "kCCuMtEXmvwp",
        "colab": {
          "base_uri": "https://localhost:8080/",
          "height": 235
        },
        "outputId": "cfa552cb-a1c8-431c-cf26-d6a576a47055"
      },
      "source": [
        "# Create DataFrame of Amazon real and predicted values\n",
        "amzn_predict = pd.DataFrame({\n",
        "    \"Real\": amzn_real,\n",
        "    \"Predicted\": amzn_predicted\n",
        "}, index = amzn_df.index[-len(amzn_real): ]) \n",
        "amzn_predict.head()"
      ],
      "execution_count": null,
      "outputs": [
        {
          "output_type": "execute_result",
          "data": {
            "text/html": [
              "<div>\n",
              "<style scoped>\n",
              "    .dataframe tbody tr th:only-of-type {\n",
              "        vertical-align: middle;\n",
              "    }\n",
              "\n",
              "    .dataframe tbody tr th {\n",
              "        vertical-align: top;\n",
              "    }\n",
              "\n",
              "    .dataframe thead th {\n",
              "        text-align: right;\n",
              "    }\n",
              "</style>\n",
              "<table border=\"1\" class=\"dataframe\">\n",
              "  <thead>\n",
              "    <tr style=\"text-align: right;\">\n",
              "      <th></th>\n",
              "      <th>Real</th>\n",
              "      <th>Predicted</th>\n",
              "    </tr>\n",
              "    <tr>\n",
              "      <th>Date</th>\n",
              "      <th></th>\n",
              "      <th></th>\n",
              "    </tr>\n",
              "  </thead>\n",
              "  <tbody>\n",
              "    <tr>\n",
              "      <th>2021-02-10</th>\n",
              "      <td>3352.49</td>\n",
              "      <td>3354.047119</td>\n",
              "    </tr>\n",
              "    <tr>\n",
              "      <th>2021-02-11</th>\n",
              "      <td>3323.49</td>\n",
              "      <td>3319.336670</td>\n",
              "    </tr>\n",
              "    <tr>\n",
              "      <th>2021-02-12</th>\n",
              "      <td>3305.00</td>\n",
              "      <td>3333.520996</td>\n",
              "    </tr>\n",
              "    <tr>\n",
              "      <th>2021-02-16</th>\n",
              "      <td>3286.59</td>\n",
              "      <td>3338.353760</td>\n",
              "    </tr>\n",
              "    <tr>\n",
              "      <th>2021-02-17</th>\n",
              "      <td>3261.65</td>\n",
              "      <td>3317.235596</td>\n",
              "    </tr>\n",
              "  </tbody>\n",
              "</table>\n",
              "</div>"
            ],
            "text/plain": [
              "               Real    Predicted\n",
              "Date                            \n",
              "2021-02-10  3352.49  3354.047119\n",
              "2021-02-11  3323.49  3319.336670\n",
              "2021-02-12  3305.00  3333.520996\n",
              "2021-02-16  3286.59  3338.353760\n",
              "2021-02-17  3261.65  3317.235596"
            ]
          },
          "metadata": {
            "tags": []
          },
          "execution_count": 13
        }
      ]
    },
    {
      "cell_type": "code",
      "metadata": {
        "id": "8_00SujiokLW",
        "colab": {
          "base_uri": "https://localhost:8080/"
        },
        "outputId": "742f140d-8b5d-41b4-beed-884af866e117"
      },
      "source": [
        "# Calculate Amazon MSE & RMSE\n",
        "amzn_mse = mean_squared_error(amzn_real, amzn_predicted)\n",
        "amzn_rmse = math.sqrt(amzn_mse)\n",
        "amzn_mean = amzn_predicted.mean()\n",
        "print(f\"Amazon Mean Square Error: {amzn_mse}\")\n",
        "print(f\"Amazon Root Mean Square Error: {amzn_rmse}\")\n",
        "print(f\"Amazon Mean Predicted Closing Price: {amzn_mean}\")"
      ],
      "execution_count": null,
      "outputs": [
        {
          "output_type": "stream",
          "text": [
            "Amazon Mean Square Error: 5053.112536899205\n",
            "Amazon Root Mean Square Error: 71.08524837755866\n",
            "Amazon Mean Predicted Closing Price: 3225.22607421875\n"
          ],
          "name": "stdout"
        }
      ]
    },
    {
      "cell_type": "code",
      "metadata": {
        "id": "q0J4hLQ1LGJx",
        "colab": {
          "base_uri": "https://localhost:8080/",
          "height": 350
        },
        "outputId": "966552f5-7150-4f87-f346-6b057144beb6"
      },
      "source": [
        "# Plot the Amazon real vs predicted values as a line chart\n",
        "amzn_predict.plot(title=\"LSTM Amazon Real vs. Predicted Closing Price\", figsize=(10,5), ylabel=\"Price\");"
      ],
      "execution_count": null,
      "outputs": [
        {
          "output_type": "display_data",
          "data": {
            "image/png": "[encoded data removed]",
            "text/plain": [
              "<Figure size 720x360 with 1 Axes>"
            ]
          },
          "metadata": {
            "tags": [],
            "needs_background": "light"
          }
        }
      ]
    },
    {
      "cell_type": "code",
      "metadata": {
        "id": "XeZqXkv0QE_m"
      },
      "source": [
        "# Recover the original Google prices\n",
        "googl_predicted = scalers[\"GOOGL\"].inverse_transform(pred_results[1]).ravel()\n",
        "googl_real = scalers[\"GOOGL\"].inverse_transform(test[1].reshape(-1, 1)).ravel()"
      ],
      "execution_count": null,
      "outputs": []
    },
    {
      "cell_type": "code",
      "metadata": {
        "id": "VBKwMIXnQiwL",
        "colab": {
          "base_uri": "https://localhost:8080/",
          "height": 235
        },
        "outputId": "247f4e37-8fa2-4979-c207-e2e9ebf0fd9c"
      },
      "source": [
        "# Create a DataFrame of Google real and predicted values\n",
        "googl_predict = pd.DataFrame({\n",
        "    \"Real\": googl_real,\n",
        "    \"Predicted\": googl_predicted\n",
        "}, index = googl_df.index[-len(googl_real): ]) \n",
        "googl_predict.head()"
      ],
      "execution_count": null,
      "outputs": [
        {
          "output_type": "execute_result",
          "data": {
            "text/html": [
              "<div>\n",
              "<style scoped>\n",
              "    .dataframe tbody tr th:only-of-type {\n",
              "        vertical-align: middle;\n",
              "    }\n",
              "\n",
              "    .dataframe tbody tr th {\n",
              "        vertical-align: top;\n",
              "    }\n",
              "\n",
              "    .dataframe thead th {\n",
              "        text-align: right;\n",
              "    }\n",
              "</style>\n",
              "<table border=\"1\" class=\"dataframe\">\n",
              "  <thead>\n",
              "    <tr style=\"text-align: right;\">\n",
              "      <th></th>\n",
              "      <th>Real</th>\n",
              "      <th>Predicted</th>\n",
              "    </tr>\n",
              "    <tr>\n",
              "      <th>Date</th>\n",
              "      <th></th>\n",
              "      <th></th>\n",
              "    </tr>\n",
              "  </thead>\n",
              "  <tbody>\n",
              "    <tr>\n",
              "      <th>2021-02-10</th>\n",
              "      <td>2182.987739</td>\n",
              "      <td>2196.493896</td>\n",
              "    </tr>\n",
              "    <tr>\n",
              "      <th>2021-02-11</th>\n",
              "      <td>2185.841977</td>\n",
              "      <td>2217.559326</td>\n",
              "    </tr>\n",
              "    <tr>\n",
              "      <th>2021-02-12</th>\n",
              "      <td>2199.901746</td>\n",
              "      <td>2211.453613</td>\n",
              "    </tr>\n",
              "    <tr>\n",
              "      <th>2021-02-16</th>\n",
              "      <td>2189.436204</td>\n",
              "      <td>2215.309570</td>\n",
              "    </tr>\n",
              "    <tr>\n",
              "      <th>2021-02-17</th>\n",
              "      <td>2207.513049</td>\n",
              "      <td>2220.363525</td>\n",
              "    </tr>\n",
              "  </tbody>\n",
              "</table>\n",
              "</div>"
            ],
            "text/plain": [
              "                   Real    Predicted\n",
              "Date                                \n",
              "2021-02-10  2182.987739  2196.493896\n",
              "2021-02-11  2185.841977  2217.559326\n",
              "2021-02-12  2199.901746  2211.453613\n",
              "2021-02-16  2189.436204  2215.309570\n",
              "2021-02-17  2207.513049  2220.363525"
            ]
          },
          "metadata": {
            "tags": []
          },
          "execution_count": 17
        }
      ]
    },
    {
      "cell_type": "code",
      "metadata": {
        "id": "_Ax_kdYynsw4",
        "colab": {
          "base_uri": "https://localhost:8080/"
        },
        "outputId": "01c89f6a-b210-4ade-bbc5-280da454fe77"
      },
      "source": [
        "# Calculate Google MSE & RMSE\n",
        "googl_mse = mean_squared_error(googl_real, googl_predicted)\n",
        "googl_rmse = math.sqrt(googl_mse)\n",
        "googl_mean = googl_predicted.mean()\n",
        "print(f\"Google Mean Square Error: {googl_mse}\")\n",
        "print(f\"Google Root Mean Square Error: {googl_rmse}\")\n",
        "print(f\"Google Mean Predicted Closing Price: {googl_mean}\")"
      ],
      "execution_count": null,
      "outputs": [
        {
          "output_type": "stream",
          "text": [
            "Google Mean Square Error: 3156.752692817625\n",
            "Google Root Mean Square Error: 56.184986364843276\n",
            "Google Mean Predicted Closing Price: 2216.8349609375\n"
          ],
          "name": "stdout"
        }
      ]
    },
    {
      "cell_type": "code",
      "metadata": {
        "id": "mq0YnUeuRPu1",
        "colab": {
          "base_uri": "https://localhost:8080/",
          "height": 350
        },
        "outputId": "9e10f449-61d4-4550-f68f-a65f094755e7"
      },
      "source": [
        "# Plot the Google real vs predicted values as a line chart\n",
        "googl_predict.plot(title=\"LSTM Google Real vs. Predicted Closing Price\", figsize=(10,5), ylabel=\"Price\");"
      ],
      "execution_count": null,
      "outputs": [
        {
          "output_type": "display_data",
          "data": {
            "image/png": "[encoded data removed]",
            "text/plain": [
              "<Figure size 720x360 with 1 Axes>"
            ]
          },
          "metadata": {
            "tags": [],
            "needs_background": "light"
          }
        }
      ]
    },
    {
      "cell_type": "code",
      "metadata": {
        "id": "4idFS0KhQTd5"
      },
      "source": [
        "# Recover the original Microsoft prices\n",
        "msft_predicted = scalers[\"MSFT\"].inverse_transform(pred_results[2]).ravel()\n",
        "msft_real = scalers[\"MSFT\"].inverse_transform(test[2].reshape(-1, 1)).ravel()"
      ],
      "execution_count": null,
      "outputs": []
    },
    {
      "cell_type": "code",
      "metadata": {
        "id": "1_AHk7WDQ7Q_",
        "colab": {
          "base_uri": "https://localhost:8080/"
        },
        "outputId": "97cc4898-381c-459a-9709-1aef2183158e"
      },
      "source": [
        "# Create a DataFrame of Microsoft real and predicted values\n",
        "msft_predict = pd.DataFrame({\n",
        "    \"Real\": msft_real,\n",
        "    \"Predicted\": msft_predicted\n",
        "}, index = msft_df.index[-len(msft_real): ]) \n",
        "msft_predict.head()\n",
        "msft_predicted"
      ],
      "execution_count": null,
      "outputs": [
        {
          "output_type": "execute_result",
          "data": {
            "text/plain": [
              "array([220.53719, 230.13466, 230.94818, 233.05841, 232.50475, 232.15617,\n",
              "       233.11557, 233.55006, 234.5921 , 235.79985, 235.85896, 234.1019 ,\n",
              "       231.93245, 230.00859, 230.59933, 230.36818, 226.3152 , 227.97935,\n",
              "       230.78217, 228.99806, 226.46121, 229.11717, 231.03596, 225.95795,\n",
              "       228.50543, 229.67766, 232.63449, 229.58012, 230.73769, 232.24178,\n",
              "       230.42102, 226.38373, 226.88098, 227.52126, 227.99216, 227.37068,\n",
              "       227.27184, 227.4017 , 228.94624, 229.94421, 233.64708, 240.71355,\n",
              "       246.7697 , 247.06511, 249.50566, 250.71536, 251.4171 , 249.81989,\n",
              "       250.32582, 250.72049, 253.6244 , 253.67075, 253.85617, 252.91553,\n",
              "       252.4467 , 252.16365, 255.5606 , 256.21356, 256.92703],\n",
              "      dtype=float32)"
            ]
          },
          "metadata": {
            "tags": []
          },
          "execution_count": 21
        }
      ]
    },
    {
      "cell_type": "code",
      "metadata": {
        "id": "Yp7f3ELLQtbG",
        "colab": {
          "base_uri": "https://localhost:8080/"
        },
        "outputId": "c852b4b8-7b60-45bb-d810-4fdcf986aa1a"
      },
      "source": [
        "# Calculate Microsoft MSE & RMSE\n",
        "msft_mse = mean_squared_error(msft_real, msft_predicted)\n",
        "msft_rmse = math.sqrt(msft_mse)\n",
        "msft_mean = msft_predicted.mean()\n",
        "print(f\"Microsoft Mean Square Error: {msft_mse}\")\n",
        "print(f\"Microsoft Root Mean Square Error: {msft_rmse}\")\n",
        "print(f\"Microsoft Mean Predicted Closing Price: {msft_mean}\")"
      ],
      "execution_count": null,
      "outputs": [
        {
          "output_type": "stream",
          "text": [
            "Microsoft Mean Square Error: 18.750387396542568\n",
            "Microsoft Root Mean Square Error: 4.330171751390766\n",
            "Microsoft Mean Predicted Closing Price: 236.5678253173828\n"
          ],
          "name": "stdout"
        }
      ]
    },
    {
      "cell_type": "code",
      "metadata": {
        "id": "JOhtcptWRUkh",
        "colab": {
          "base_uri": "https://localhost:8080/",
          "height": 350
        },
        "outputId": "1197d808-3f13-437a-80fa-9982c62dd686"
      },
      "source": [
        "# Plot the real vs predicted values as a line chart\n",
        "msft_predict.plot(title=\"LSTM Microsoft Real vs. Predicted Closing Price\", figsize=(10,5), ylabel=\"Price\");"
      ],
      "execution_count": null,
      "outputs": [
        {
          "output_type": "display_data",
          "data": {
            "image/png": "[encoded data removed]",
            "text/plain": [
              "<Figure size 720x360 with 1 Axes>"
            ]
          },
          "metadata": {
            "tags": [],
            "needs_background": "light"
          }
        }
      ]
    },
    {
      "cell_type": "code",
      "metadata": {
        "id": "tr16f3nn9F8M"
      },
      "source": [
        ""
      ],
      "execution_count": null,
      "outputs": []
    }
  ]
}