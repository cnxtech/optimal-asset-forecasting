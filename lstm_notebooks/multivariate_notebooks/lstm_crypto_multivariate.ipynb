{
  "nbformat": 4,
  "nbformat_minor": 0,
  "metadata": {
    "colab": {
      "name": "lstm_crypto_multivariate.ipynb",
      "provenance": []
    },
    "kernelspec": {
      "name": "python3",
      "display_name": "Python 3"
    },
    "language_info": {
      "name": "python"
    }
  },
  "cells": [
    {
      "cell_type": "markdown",
      "metadata": {
        "id": "40-okHJtaBD0"
      },
      "source": [
        "## LSTM Multivariate Model for Bitcoin, Ethereum and Litecoin Crypto "
      ]
    },
    {
      "cell_type": "code",
      "metadata": {
        "id": "UJFmtjsqaoLS"
      },
      "source": [
        "# Import libraries\n",
        "from pathlib import Path\n",
        "import pandas as pd\n",
        "import numpy as np\n",
        "import hvplot.pandas\n",
        "import math\n",
        "from sklearn.metrics import mean_squared_error\n",
        "from sklearn.preprocessing import MinMaxScaler\n",
        "from tensorflow.keras.models import Sequential\n",
        "from tensorflow.keras.layers import LSTM, Dense, Dropout"
      ],
      "execution_count": null,
      "outputs": []
    },
    {
      "cell_type": "code",
      "metadata": {
        "id": "nOGawCBNf7mN"
      },
      "source": [
        "# Assign random seed for reproducibility \n",
        "from numpy.random import seed\n",
        "seed(1)\n",
        "from tensorflow import random\n",
        "random.set_seed(2)"
      ],
      "execution_count": null,
      "outputs": []
    },
    {
      "cell_type": "code",
      "metadata": {
        "colab": {
          "base_uri": "https://localhost:8080/"
        },
        "id": "9n21iD2MbjDQ",
        "outputId": "5785886d-6a50-45aa-dec2-91d797c023d2"
      },
      "source": [
        "# Mount Drive\n",
        "from google.colab import drive\n",
        "drive.mount(\"/content/drive\")"
      ],
      "execution_count": null,
      "outputs": [
        {
          "output_type": "stream",
          "text": [
            "Drive already mounted at /content/drive; to attempt to forcibly remount, call drive.mount(\"/content/drive\", force_remount=True).\n"
          ],
          "name": "stdout"
        }
      ]
    },
    {
      "cell_type": "markdown",
      "metadata": {
        "id": "sb6M7KMbiQAG"
      },
      "source": [
        "## Data Clean Up"
      ]
    },
    {
      "cell_type": "code",
      "metadata": {
        "id": "vZQud5PFaqLA"
      },
      "source": [
        "# Define CSV paths\n",
        "btc_csv_path = Path(\"/content/drive/MyDrive/Group_Project_2/BTC_USD_data.csv\")\n",
        "eth_csv_path = Path(\"/content/drive/MyDrive/Group_Project_2/ETH_USD_data.csv\")\n",
        "ltc_csv_path = Path(\"/content/drive/MyDrive/Group_Project_2/LTC_USD_data.csv\")"
      ],
      "execution_count": null,
      "outputs": []
    },
    {
      "cell_type": "code",
      "metadata": {
        "colab": {
          "base_uri": "https://localhost:8080/",
          "height": 235
        },
        "id": "D0wBQ5yxwNgS",
        "outputId": "2cc55504-d104-4f25-b599-7a3574d7fcbe"
      },
      "source": [
        "# Read CSVs to DataFrames\n",
        "btc_df = pd.read_csv(btc_csv_path, index_col=\"Date\", infer_datetime_format=True, parse_dates=True)\n",
        "eth_df = pd.read_csv(eth_csv_path, index_col=\"Date\", infer_datetime_format=True, parse_dates=True)\n",
        "ltc_df = pd.read_csv(ltc_csv_path, index_col=\"Date\", infer_datetime_format=True, parse_dates=True)\n",
        "btc_df.head()"
      ],
      "execution_count": null,
      "outputs": [
        {
          "output_type": "execute_result",
          "data": {
            "text/html": [
              "<div>\n",
              "<style scoped>\n",
              "    .dataframe tbody tr th:only-of-type {\n",
              "        vertical-align: middle;\n",
              "    }\n",
              "\n",
              "    .dataframe tbody tr th {\n",
              "        vertical-align: top;\n",
              "    }\n",
              "\n",
              "    .dataframe thead th {\n",
              "        text-align: right;\n",
              "    }\n",
              "</style>\n",
              "<table border=\"1\" class=\"dataframe\">\n",
              "  <thead>\n",
              "    <tr style=\"text-align: right;\">\n",
              "      <th></th>\n",
              "      <th>BTC</th>\n",
              "    </tr>\n",
              "    <tr>\n",
              "      <th>Date</th>\n",
              "      <th></th>\n",
              "    </tr>\n",
              "  </thead>\n",
              "  <tbody>\n",
              "    <tr>\n",
              "      <th>2016-01-01</th>\n",
              "      <td>433.82</td>\n",
              "    </tr>\n",
              "    <tr>\n",
              "      <th>2016-01-02</th>\n",
              "      <td>433.55</td>\n",
              "    </tr>\n",
              "    <tr>\n",
              "      <th>2016-01-03</th>\n",
              "      <td>431.04</td>\n",
              "    </tr>\n",
              "    <tr>\n",
              "      <th>2016-01-04</th>\n",
              "      <td>434.17</td>\n",
              "    </tr>\n",
              "    <tr>\n",
              "      <th>2016-01-05</th>\n",
              "      <td>432.43</td>\n",
              "    </tr>\n",
              "  </tbody>\n",
              "</table>\n",
              "</div>"
            ],
            "text/plain": [
              "               BTC\n",
              "Date              \n",
              "2016-01-01  433.82\n",
              "2016-01-02  433.55\n",
              "2016-01-03  431.04\n",
              "2016-01-04  434.17\n",
              "2016-01-05  432.43"
            ]
          },
          "metadata": {
            "tags": []
          },
          "execution_count": 257
        }
      ]
    },
    {
      "cell_type": "code",
      "metadata": {
        "id": "a0_6JI98eWMf"
      },
      "source": [
        "# Create list of DataFrames\n",
        "dfs = [btc_df, eth_df, ltc_df]"
      ],
      "execution_count": null,
      "outputs": []
    },
    {
      "cell_type": "markdown",
      "metadata": {
        "id": "yzc_RGkViXrO"
      },
      "source": [
        "## Data Prep"
      ]
    },
    {
      "cell_type": "code",
      "metadata": {
        "id": "6iU7h8XSXvSn"
      },
      "source": [
        "# Fuction to calculate RSI\n",
        "def relative_strength_idx(df, n=14):\n",
        "    close = df\n",
        "    delta = close.diff()\n",
        "    delta = delta[1:]\n",
        "    pricesUp = delta.copy()\n",
        "    pricesDown = delta.copy()\n",
        "    pricesUp[pricesUp < 0] = 0\n",
        "    pricesDown[pricesDown > 0] = 0\n",
        "    rollUp = pricesUp.rolling(n).mean()\n",
        "    rollDown = pricesDown.abs().rolling(n).mean()\n",
        "    rs = rollUp / rollDown\n",
        "    rsi = 100.0 - (100.0 / (1.0 + rs))\n",
        "    return rsi"
      ],
      "execution_count": null,
      "outputs": []
    },
    {
      "cell_type": "code",
      "metadata": {
        "id": "C1TSg86kX_qC"
      },
      "source": [
        "# Create EMA and RSI columns\n",
        "for df in dfs: \n",
        "  df['EMA_5'] = df.ewm(5).mean().shift()\n",
        "  df_rsi = relative_strength_idx(df, n=14) \n",
        "  df['RSI'] = df_rsi[df_rsi.columns[0]]"
      ],
      "execution_count": null,
      "outputs": []
    },
    {
      "cell_type": "code",
      "metadata": {
        "id": "ALv6cE3GlXpD"
      },
      "source": [
        "# Build the LSTM model\n",
        "\n",
        "def lstm_model(X_train):\n",
        "  model = Sequential()\n",
        "\n",
        "  number_units = 40\n",
        "  dropout_fraction = 0.3\n",
        "\n",
        "  # Layer 1\n",
        "  model.add(LSTM(\n",
        "      units=number_units,\n",
        "      return_sequences=True,\n",
        "      input_shape=(X_train.shape[1], 1))\n",
        "      )\n",
        "  model.add(Dropout(dropout_fraction))\n",
        "  # Layer 2\n",
        "  model.add(LSTM(units=number_units, return_sequences=True))\n",
        "  model.add(Dropout(dropout_fraction))\n",
        "  # Layer 3\n",
        "  model.add(LSTM(units=number_units, return_sequences=True))\n",
        "  model.add(Dropout(dropout_fraction))\n",
        "  # Layer 4\n",
        "  model.add(LSTM(units=number_units))\n",
        "  model.add(Dropout(dropout_fraction))\n",
        "  # Output layer\n",
        "  model.add(Dense(1))\n",
        "\n",
        "  return model\n",
        "  "
      ],
      "execution_count": null,
      "outputs": []
    },
    {
      "cell_type": "markdown",
      "metadata": {
        "id": "chGJx1fFiehv"
      },
      "source": [
        "## Run the Model"
      ]
    },
    {
      "cell_type": "code",
      "metadata": {
        "id": "hB42HF2zgeP_",
        "colab": {
          "base_uri": "https://localhost:8080/"
        },
        "outputId": "9ef1ef4e-6608-4b82-c582-f0dedee3c601"
      },
      "source": [
        "# Predict Closing Prices \n",
        "\n",
        "scalers={}\n",
        "test = []\n",
        "pred_results = []\n",
        "\n",
        "for df in dfs:\n",
        "  scaler = MinMaxScaler()\n",
        "\n",
        "  # Slice the data for after the shock\n",
        "  df = df.loc['2020-03-01': '2021-05-03']\n",
        "\n",
        "  # Split data into feature(X) and target(y)\n",
        "  X = df\n",
        "  y = df.iloc[:,0]\n",
        "  y = np.array(y).reshape(-1,1)\n",
        "\n",
        "  # Split into training and testing sets\n",
        "  split_ratio = 0.8\n",
        "  split = int(split_ratio * len(df))\n",
        "  X_train = X[: split]\n",
        "  X_test = X[split:]\n",
        "  y_train = y[: split]\n",
        "  y_test = y[split:]\n",
        "\n",
        "  # Scale the data\n",
        "  scaler.fit(X)\n",
        "  X_train = scaler.transform(X_train)\n",
        "  X_test = scaler.transform(X_test)\n",
        "  scaler.fit(y)\n",
        "  y_train = scaler.transform(y_train)\n",
        "  y_test = scaler.transform(y_test)\n",
        "  \n",
        "  test.append(y_test)\n",
        "\n",
        "  scalers[df.columns[0]]=scaler\n",
        "\n",
        "  # Reshape the data\n",
        "  X_train = X_train.reshape((X_train.shape[0], X_train.shape[1], 1))\n",
        "  X_test = X_test.reshape((X_test.shape[0], X_test.shape[1], 1))\n",
        "\n",
        "  # Call the LSTM model function\n",
        "  model = lstm_model(X_train)\n",
        "\n",
        "  # Compile the model\n",
        "  model.compile(optimizer=\"adamax\", loss=\"mean_squared_error\")\n",
        "\n",
        "  # Fit the model\n",
        "  model.fit(X_train, y_train, epochs=15, shuffle=False, batch_size=2)\n",
        "\n",
        "  print(model.evaluate(X_test, y_test))\n",
        "\n",
        "  # Make predictions\n",
        "  predicted = model.predict(X_test)\n",
        "\n",
        "  pred_results.append(predicted)"
      ],
      "execution_count": null,
      "outputs": [
        {
          "output_type": "stream",
          "text": [
            "Epoch 1/15\n",
            "172/172 [==============================] - 7s 8ms/step - loss: 0.0011\n",
            "Epoch 2/15\n",
            "172/172 [==============================] - 1s 8ms/step - loss: 0.0575\n",
            "Epoch 3/15\n",
            "172/172 [==============================] - 1s 8ms/step - loss: 0.0230\n",
            "Epoch 4/15\n",
            "172/172 [==============================] - 1s 8ms/step - loss: 0.0242\n",
            "Epoch 5/15\n",
            "172/172 [==============================] - 1s 8ms/step - loss: 0.0239\n",
            "Epoch 6/15\n",
            "172/172 [==============================] - 1s 8ms/step - loss: 0.0162\n",
            "Epoch 7/15\n",
            "172/172 [==============================] - 1s 8ms/step - loss: 0.0061\n",
            "Epoch 8/15\n",
            "172/172 [==============================] - 1s 8ms/step - loss: 0.0036\n",
            "Epoch 9/15\n",
            "172/172 [==============================] - 1s 8ms/step - loss: 0.0011\n",
            "Epoch 10/15\n",
            "172/172 [==============================] - 1s 8ms/step - loss: 0.0018\n",
            "Epoch 11/15\n",
            "172/172 [==============================] - 1s 8ms/step - loss: 0.0014\n",
            "Epoch 12/15\n",
            "172/172 [==============================] - 1s 8ms/step - loss: 0.0011\n",
            "Epoch 13/15\n",
            "172/172 [==============================] - 1s 8ms/step - loss: 6.1469e-04\n",
            "Epoch 14/15\n",
            "172/172 [==============================] - 1s 9ms/step - loss: 9.6401e-04\n",
            "Epoch 15/15\n",
            "172/172 [==============================] - 1s 8ms/step - loss: 4.0693e-04\n",
            "WARNING:tensorflow:5 out of the last 13 calls to <function Model.make_test_function.<locals>.test_function at 0x7f44525a2290> triggered tf.function retracing. Tracing is expensive and the excessive number of tracings could be due to (1) creating @tf.function repeatedly in a loop, (2) passing tensors with different shapes, (3) passing Python objects instead of tensors. For (1), please define your @tf.function outside of the loop. For (2), @tf.function has experimental_relax_shapes=True option that relaxes argument shapes that can avoid unnecessary retracing. For (3), please refer to https://www.tensorflow.org/guide/function#controlling_retracing and https://www.tensorflow.org/api_docs/python/tf/function for  more details.\n",
            "3/3 [==============================] - 1s 5ms/step - loss: 3.1439e-04\n",
            "0.0003143901703879237\n",
            "WARNING:tensorflow:5 out of the last 13 calls to <function Model.make_predict_function.<locals>.predict_function at 0x7f4456947ef0> triggered tf.function retracing. Tracing is expensive and the excessive number of tracings could be due to (1) creating @tf.function repeatedly in a loop, (2) passing tensors with different shapes, (3) passing Python objects instead of tensors. For (1), please define your @tf.function outside of the loop. For (2), @tf.function has experimental_relax_shapes=True option that relaxes argument shapes that can avoid unnecessary retracing. For (3), please refer to https://www.tensorflow.org/guide/function#controlling_retracing and https://www.tensorflow.org/api_docs/python/tf/function for  more details.\n",
            "Epoch 1/15\n",
            "172/172 [==============================] - 8s 8ms/step - loss: 4.9548e-04\n",
            "Epoch 2/15\n",
            "172/172 [==============================] - 2s 9ms/step - loss: 0.0255\n",
            "Epoch 3/15\n",
            "172/172 [==============================] - 1s 9ms/step - loss: 0.0115\n",
            "Epoch 4/15\n",
            "172/172 [==============================] - 2s 9ms/step - loss: 0.0113\n",
            "Epoch 5/15\n",
            "172/172 [==============================] - 2s 9ms/step - loss: 0.0112\n",
            "Epoch 6/15\n",
            "172/172 [==============================] - 1s 9ms/step - loss: 0.0112\n",
            "Epoch 7/15\n",
            "172/172 [==============================] - 1s 9ms/step - loss: 0.0104\n",
            "Epoch 8/15\n",
            "172/172 [==============================] - 2s 9ms/step - loss: 0.0079\n",
            "Epoch 9/15\n",
            "172/172 [==============================] - 1s 9ms/step - loss: 0.0025\n",
            "Epoch 10/15\n",
            "172/172 [==============================] - 1s 9ms/step - loss: 0.0015\n",
            "Epoch 11/15\n",
            "172/172 [==============================] - 1s 8ms/step - loss: 8.2160e-04\n",
            "Epoch 12/15\n",
            "172/172 [==============================] - 2s 9ms/step - loss: 2.5895e-04\n",
            "Epoch 13/15\n",
            "172/172 [==============================] - 2s 9ms/step - loss: 1.6914e-04\n",
            "Epoch 14/15\n",
            "172/172 [==============================] - 1s 8ms/step - loss: 4.5144e-04\n",
            "Epoch 15/15\n",
            "172/172 [==============================] - 2s 9ms/step - loss: 3.6528e-04\n",
            "WARNING:tensorflow:5 out of the last 13 calls to <function Model.make_test_function.<locals>.test_function at 0x7f4451aa2a70> triggered tf.function retracing. Tracing is expensive and the excessive number of tracings could be due to (1) creating @tf.function repeatedly in a loop, (2) passing tensors with different shapes, (3) passing Python objects instead of tensors. For (1), please define your @tf.function outside of the loop. For (2), @tf.function has experimental_relax_shapes=True option that relaxes argument shapes that can avoid unnecessary retracing. For (3), please refer to https://www.tensorflow.org/guide/function#controlling_retracing and https://www.tensorflow.org/api_docs/python/tf/function for  more details.\n",
            "3/3 [==============================] - 1s 6ms/step - loss: 2.6059e-04\n",
            "0.0002605924673844129\n",
            "WARNING:tensorflow:5 out of the last 13 calls to <function Model.make_predict_function.<locals>.predict_function at 0x7f44570b0f80> triggered tf.function retracing. Tracing is expensive and the excessive number of tracings could be due to (1) creating @tf.function repeatedly in a loop, (2) passing tensors with different shapes, (3) passing Python objects instead of tensors. For (1), please define your @tf.function outside of the loop. For (2), @tf.function has experimental_relax_shapes=True option that relaxes argument shapes that can avoid unnecessary retracing. For (3), please refer to https://www.tensorflow.org/guide/function#controlling_retracing and https://www.tensorflow.org/api_docs/python/tf/function for  more details.\n",
            "Epoch 1/15\n",
            "172/172 [==============================] - 8s 8ms/step - loss: 0.0021\n",
            "Epoch 2/15\n",
            "172/172 [==============================] - 1s 8ms/step - loss: 0.0296\n",
            "Epoch 3/15\n",
            "172/172 [==============================] - 1s 9ms/step - loss: 0.0148\n",
            "Epoch 4/15\n",
            "172/172 [==============================] - 1s 8ms/step - loss: 0.0156\n",
            "Epoch 5/15\n",
            "172/172 [==============================] - 1s 8ms/step - loss: 0.0147\n",
            "Epoch 6/15\n",
            "172/172 [==============================] - 1s 9ms/step - loss: 0.0131\n",
            "Epoch 7/15\n",
            "172/172 [==============================] - 1s 8ms/step - loss: 0.0085\n",
            "Epoch 8/15\n",
            "172/172 [==============================] - 1s 8ms/step - loss: 0.0039\n",
            "Epoch 9/15\n",
            "172/172 [==============================] - 1s 9ms/step - loss: 9.3548e-04\n",
            "Epoch 10/15\n",
            "172/172 [==============================] - 1s 8ms/step - loss: 0.0012\n",
            "Epoch 11/15\n",
            "172/172 [==============================] - 1s 8ms/step - loss: 0.0011\n",
            "Epoch 12/15\n",
            "172/172 [==============================] - 1s 9ms/step - loss: 5.3036e-04\n",
            "Epoch 13/15\n",
            "172/172 [==============================] - 1s 8ms/step - loss: 3.4191e-04\n",
            "Epoch 14/15\n",
            "172/172 [==============================] - 1s 8ms/step - loss: 5.6764e-04\n",
            "Epoch 15/15\n",
            "172/172 [==============================] - 1s 8ms/step - loss: 3.8093e-04\n",
            "WARNING:tensorflow:5 out of the last 13 calls to <function Model.make_test_function.<locals>.test_function at 0x7f445f5908c0> triggered tf.function retracing. Tracing is expensive and the excessive number of tracings could be due to (1) creating @tf.function repeatedly in a loop, (2) passing tensors with different shapes, (3) passing Python objects instead of tensors. For (1), please define your @tf.function outside of the loop. For (2), @tf.function has experimental_relax_shapes=True option that relaxes argument shapes that can avoid unnecessary retracing. For (3), please refer to https://www.tensorflow.org/guide/function#controlling_retracing and https://www.tensorflow.org/api_docs/python/tf/function for  more details.\n",
            "3/3 [==============================] - 1s 6ms/step - loss: 0.0012\n",
            "0.001217365963384509\n",
            "WARNING:tensorflow:5 out of the last 13 calls to <function Model.make_predict_function.<locals>.predict_function at 0x7f4456731e60> triggered tf.function retracing. Tracing is expensive and the excessive number of tracings could be due to (1) creating @tf.function repeatedly in a loop, (2) passing tensors with different shapes, (3) passing Python objects instead of tensors. For (1), please define your @tf.function outside of the loop. For (2), @tf.function has experimental_relax_shapes=True option that relaxes argument shapes that can avoid unnecessary retracing. For (3), please refer to https://www.tensorflow.org/guide/function#controlling_retracing and https://www.tensorflow.org/api_docs/python/tf/function for  more details.\n"
          ],
          "name": "stdout"
        }
      ]
    },
    {
      "cell_type": "markdown",
      "metadata": {
        "id": "T8QWsOPZijwE"
      },
      "source": [
        "## Review Results"
      ]
    },
    {
      "cell_type": "code",
      "metadata": {
        "id": "UaafpvytmkNj"
      },
      "source": [
        "# Recover the original and predicted Bitcoin prices\n",
        "btc_predicted= scalers[\"BTC\"].inverse_transform(pred_results[0]).ravel()\n",
        "btc_real = scalers[\"BTC\"].inverse_transform(test[0].reshape(-1, 1)).ravel()"
      ],
      "execution_count": null,
      "outputs": []
    },
    {
      "cell_type": "code",
      "metadata": {
        "colab": {
          "base_uri": "https://localhost:8080/",
          "height": 235
        },
        "id": "kCCuMtEXmvwp",
        "outputId": "5cef5fed-c3b9-4cdb-8edc-fc330c80ecf7"
      },
      "source": [
        "# Create DataFrame of Bitcoin Real and Predicted values\n",
        "btc_predict = pd.DataFrame({\n",
        "    \"Real\": btc_real,\n",
        "    \"Predicted\": btc_predicted\n",
        "}, index = btc_df.index[-len(btc_real): ]) \n",
        "btc_predict.head()"
      ],
      "execution_count": null,
      "outputs": [
        {
          "output_type": "execute_result",
          "data": {
            "text/html": [
              "<div>\n",
              "<style scoped>\n",
              "    .dataframe tbody tr th:only-of-type {\n",
              "        vertical-align: middle;\n",
              "    }\n",
              "\n",
              "    .dataframe tbody tr th {\n",
              "        vertical-align: top;\n",
              "    }\n",
              "\n",
              "    .dataframe thead th {\n",
              "        text-align: right;\n",
              "    }\n",
              "</style>\n",
              "<table border=\"1\" class=\"dataframe\">\n",
              "  <thead>\n",
              "    <tr style=\"text-align: right;\">\n",
              "      <th></th>\n",
              "      <th>Real</th>\n",
              "      <th>Predicted</th>\n",
              "    </tr>\n",
              "    <tr>\n",
              "      <th>Date</th>\n",
              "      <th></th>\n",
              "      <th></th>\n",
              "    </tr>\n",
              "  </thead>\n",
              "  <tbody>\n",
              "    <tr>\n",
              "      <th>2021-02-07</th>\n",
              "      <td>38858.39</td>\n",
              "      <td>36802.488281</td>\n",
              "    </tr>\n",
              "    <tr>\n",
              "      <th>2021-02-08</th>\n",
              "      <td>46416.45</td>\n",
              "      <td>43339.777344</td>\n",
              "    </tr>\n",
              "    <tr>\n",
              "      <th>2021-02-09</th>\n",
              "      <td>46505.20</td>\n",
              "      <td>43979.164062</td>\n",
              "    </tr>\n",
              "    <tr>\n",
              "      <th>2021-02-10</th>\n",
              "      <td>44854.63</td>\n",
              "      <td>43282.453125</td>\n",
              "    </tr>\n",
              "    <tr>\n",
              "      <th>2021-02-11</th>\n",
              "      <td>47981.48</td>\n",
              "      <td>46018.601562</td>\n",
              "    </tr>\n",
              "  </tbody>\n",
              "</table>\n",
              "</div>"
            ],
            "text/plain": [
              "                Real     Predicted\n",
              "Date                              \n",
              "2021-02-07  38858.39  36802.488281\n",
              "2021-02-08  46416.45  43339.777344\n",
              "2021-02-09  46505.20  43979.164062\n",
              "2021-02-10  44854.63  43282.453125\n",
              "2021-02-11  47981.48  46018.601562"
            ]
          },
          "metadata": {
            "tags": []
          },
          "execution_count": 265
        }
      ]
    },
    {
      "cell_type": "code",
      "metadata": {
        "colab": {
          "base_uri": "https://localhost:8080/"
        },
        "id": "WnhWAYVptWAl",
        "outputId": "905411f6-1b1e-4054-cd18-ea97854a1118"
      },
      "source": [
        "# Calculate Bitcoin MSE & RMSE\n",
        "btc_mse = mean_squared_error(btc_real, btc_predicted)\n",
        "btc_rmse = math.sqrt(btc_mse)\n",
        "btc_mean = btc_predicted.mean()\n",
        "print(f\"Bitcoin Mean Square Error: {btc_mse}\")\n",
        "print(f\"Bitcoin Root Mean Square Error: {btc_rmse}\")\n",
        "print(f\"Bitcoin Mean Predicted Closing Price: {btc_mean}\")"
      ],
      "execution_count": null,
      "outputs": [
        {
          "output_type": "stream",
          "text": [
            "Bitcoin Mean Square Error: 1117080.1059691766\n",
            "Bitcoin Root Mean Square Error: 1056.9201038721785\n",
            "Bitcoin Mean Predicted Closing Price: 53705.0390625\n"
          ],
          "name": "stdout"
        }
      ]
    },
    {
      "cell_type": "code",
      "metadata": {
        "colab": {
          "base_uri": "https://localhost:8080/",
          "height": 385
        },
        "id": "9M9Sz1Ap-lpN",
        "outputId": "f1a09f01-7cf3-4c69-b44e-4c59b610f612"
      },
      "source": [
        "# Plot Bitcoin real vs predicted prices\n",
        "btc_predict.plot(title=\"LSTM Bitcoin Real vs. Predicted Closing Prices\", figsize=(10,5), ylabel=\"Price\");"
      ],
      "execution_count": null,
      "outputs": [
        {
          "output_type": "display_data",
          "data": {
            "image/png": "[encoded data removed]",
            "text/plain": [
              "<Figure size 720x360 with 1 Axes>"
            ]
          },
          "metadata": {
            "tags": [],
            "needs_background": "light"
          }
        }
      ]
    },
    {
      "cell_type": "code",
      "metadata": {
        "id": "XeZqXkv0QE_m"
      },
      "source": [
        "# Recover the original and predicted Ethereum prices\n",
        "eth_predicted = scalers[\"ETH\"].inverse_transform(pred_results[1]).ravel()\n",
        "eth_real = scalers[\"ETH\"].inverse_transform(test[1].reshape(-1, 1)).ravel()"
      ],
      "execution_count": null,
      "outputs": []
    },
    {
      "cell_type": "code",
      "metadata": {
        "id": "4idFS0KhQTd5",
        "colab": {
          "base_uri": "https://localhost:8080/",
          "height": 235
        },
        "outputId": "fba2cf81-3099-4a92-bcfe-1f501f9cf841"
      },
      "source": [
        "# Create DataFrame of Ethereum real and predicted values\n",
        "eth_predict = pd.DataFrame({\n",
        "    \"Real\": eth_real,\n",
        "    \"Predicted\": eth_predicted\n",
        "}, index = eth_df.index[-len(eth_real): ]) \n",
        "eth_predict.tail()"
      ],
      "execution_count": null,
      "outputs": [
        {
          "output_type": "execute_result",
          "data": {
            "text/html": [
              "<div>\n",
              "<style scoped>\n",
              "    .dataframe tbody tr th:only-of-type {\n",
              "        vertical-align: middle;\n",
              "    }\n",
              "\n",
              "    .dataframe tbody tr th {\n",
              "        vertical-align: top;\n",
              "    }\n",
              "\n",
              "    .dataframe thead th {\n",
              "        text-align: right;\n",
              "    }\n",
              "</style>\n",
              "<table border=\"1\" class=\"dataframe\">\n",
              "  <thead>\n",
              "    <tr style=\"text-align: right;\">\n",
              "      <th></th>\n",
              "      <th>Real</th>\n",
              "      <th>Predicted</th>\n",
              "    </tr>\n",
              "    <tr>\n",
              "      <th>Date</th>\n",
              "      <th></th>\n",
              "      <th></th>\n",
              "    </tr>\n",
              "  </thead>\n",
              "  <tbody>\n",
              "    <tr>\n",
              "      <th>2021-04-29</th>\n",
              "      <td>2758.06</td>\n",
              "      <td>2782.773193</td>\n",
              "    </tr>\n",
              "    <tr>\n",
              "      <th>2021-04-30</th>\n",
              "      <td>2777.11</td>\n",
              "      <td>2831.983398</td>\n",
              "    </tr>\n",
              "    <tr>\n",
              "      <th>2021-05-01</th>\n",
              "      <td>2947.57</td>\n",
              "      <td>3006.385254</td>\n",
              "    </tr>\n",
              "    <tr>\n",
              "      <th>2021-05-02</th>\n",
              "      <td>2951.78</td>\n",
              "      <td>3047.262451</td>\n",
              "    </tr>\n",
              "    <tr>\n",
              "      <th>2021-05-03</th>\n",
              "      <td>3430.16</td>\n",
              "      <td>3440.794922</td>\n",
              "    </tr>\n",
              "  </tbody>\n",
              "</table>\n",
              "</div>"
            ],
            "text/plain": [
              "               Real    Predicted\n",
              "Date                            \n",
              "2021-04-29  2758.06  2782.773193\n",
              "2021-04-30  2777.11  2831.983398\n",
              "2021-05-01  2947.57  3006.385254\n",
              "2021-05-02  2951.78  3047.262451\n",
              "2021-05-03  3430.16  3440.794922"
            ]
          },
          "metadata": {
            "tags": []
          },
          "execution_count": 269
        }
      ]
    },
    {
      "cell_type": "code",
      "metadata": {
        "colab": {
          "base_uri": "https://localhost:8080/"
        },
        "id": "eh9qKijtu7Zq",
        "outputId": "ca162d87-f47c-4bcd-b3fc-5518c9239191"
      },
      "source": [
        "# Calculate Ethereum MSE & RMSE\n",
        "eth_mse = mean_squared_error(eth_real, eth_predicted)\n",
        "eth_rmse = math.sqrt(eth_mse)\n",
        "eth_mean = eth_predicted.mean()\n",
        "print(f\"Ethereum Mean Square Error: {eth_mse}\")\n",
        "print(f\"Ethereum Root Mean Square Error: {eth_rmse}\")\n",
        "print(f\"Ethereum Mean Predicted Closing Price: {eth_mean}\")"
      ],
      "execution_count": null,
      "outputs": [
        {
          "output_type": "stream",
          "text": [
            "Ethereum Mean Square Error: 2873.6340924439037\n",
            "Ethereum Root Mean Square Error: 53.60628780697189\n",
            "Ethereum Mean Predicted Closing Price: 1961.7474365234375\n"
          ],
          "name": "stdout"
        }
      ]
    },
    {
      "cell_type": "code",
      "metadata": {
        "colab": {
          "base_uri": "https://localhost:8080/",
          "height": 385
        },
        "id": "4SGZn9Dx_MuV",
        "outputId": "325e08c9-013d-459f-e8fe-05b6ee7e1d19"
      },
      "source": [
        "# Plot Ethereum real vs predicted prices\n",
        "eth_predict.plot(title=\"LSTM Ethereum Real vs. Predicted Closing Prices\", figsize=(10,5), ylabel=\"Price\");"
      ],
      "execution_count": null,
      "outputs": [
        {
          "output_type": "display_data",
          "data": {
            "image/png": "[encoded data removed]",
            "text/plain": [
              "<Figure size 720x360 with 1 Axes>"
            ]
          },
          "metadata": {
            "tags": [],
            "needs_background": "light"
          }
        }
      ]
    },
    {
      "cell_type": "code",
      "metadata": {
        "id": "b2jsjJZ1bQIN"
      },
      "source": [
        "# Recover the original and predicted Litecoin prices\n",
        "ltc_predicted = scalers[\"LTC\"].inverse_transform(pred_results[2]).ravel()\n",
        "ltc_real = scalers[\"LTC\"].inverse_transform(test[2].reshape(-1, 1)).ravel()"
      ],
      "execution_count": null,
      "outputs": []
    },
    {
      "cell_type": "code",
      "metadata": {
        "colab": {
          "base_uri": "https://localhost:8080/",
          "height": 235
        },
        "id": "0DNfekNqAKnm",
        "outputId": "a0d11e0a-a1a8-48db-9a70-06046c8a5e03"
      },
      "source": [
        "# Create DataFrame of Litecoin real and predicted values\n",
        "ltc_predict = pd.DataFrame({\n",
        "    \"Real\": ltc_real,\n",
        "    \"Predicted\": ltc_predicted\n",
        "}, index = ltc_df.index[-len(ltc_real): ]) \n",
        "ltc_predict.head()"
      ],
      "execution_count": null,
      "outputs": [
        {
          "output_type": "execute_result",
          "data": {
            "text/html": [
              "<div>\n",
              "<style scoped>\n",
              "    .dataframe tbody tr th:only-of-type {\n",
              "        vertical-align: middle;\n",
              "    }\n",
              "\n",
              "    .dataframe tbody tr th {\n",
              "        vertical-align: top;\n",
              "    }\n",
              "\n",
              "    .dataframe thead th {\n",
              "        text-align: right;\n",
              "    }\n",
              "</style>\n",
              "<table border=\"1\" class=\"dataframe\">\n",
              "  <thead>\n",
              "    <tr style=\"text-align: right;\">\n",
              "      <th></th>\n",
              "      <th>Real</th>\n",
              "      <th>Predicted</th>\n",
              "    </tr>\n",
              "    <tr>\n",
              "      <th>Date</th>\n",
              "      <th></th>\n",
              "      <th></th>\n",
              "    </tr>\n",
              "  </thead>\n",
              "  <tbody>\n",
              "    <tr>\n",
              "      <th>2021-02-07</th>\n",
              "      <td>151.19</td>\n",
              "      <td>142.899200</td>\n",
              "    </tr>\n",
              "    <tr>\n",
              "      <th>2021-02-08</th>\n",
              "      <td>167.65</td>\n",
              "      <td>156.646088</td>\n",
              "    </tr>\n",
              "    <tr>\n",
              "      <th>2021-02-09</th>\n",
              "      <td>181.91</td>\n",
              "      <td>168.995956</td>\n",
              "    </tr>\n",
              "    <tr>\n",
              "      <th>2021-02-10</th>\n",
              "      <td>181.80</td>\n",
              "      <td>172.848755</td>\n",
              "    </tr>\n",
              "    <tr>\n",
              "      <th>2021-02-11</th>\n",
              "      <td>184.04</td>\n",
              "      <td>175.376740</td>\n",
              "    </tr>\n",
              "  </tbody>\n",
              "</table>\n",
              "</div>"
            ],
            "text/plain": [
              "              Real   Predicted\n",
              "Date                          \n",
              "2021-02-07  151.19  142.899200\n",
              "2021-02-08  167.65  156.646088\n",
              "2021-02-09  181.91  168.995956\n",
              "2021-02-10  181.80  172.848755\n",
              "2021-02-11  184.04  175.376740"
            ]
          },
          "metadata": {
            "tags": []
          },
          "execution_count": 273
        }
      ]
    },
    {
      "cell_type": "code",
      "metadata": {
        "colab": {
          "base_uri": "https://localhost:8080/"
        },
        "id": "Cw7mW5UFvXfw",
        "outputId": "c03db487-c449-4962-9834-99f8b333becf"
      },
      "source": [
        "# Calculate Litecoin MSE & RMSE\n",
        "ltc_mse = mean_squared_error(ltc_real, ltc_predicted)\n",
        "ltc_rmse = math.sqrt(ltc_mse)\n",
        "ltc_mean = ltc_predicted.mean()\n",
        "print(f\"Litecoin Mean Square Error: {ltc_mse}\")\n",
        "print(f\"Litecoin Root Mean Square Error: {ltc_rmse}\")\n",
        "print(f\"Litecoin Mean Predicted Closing Price: {ltc_mean}\")"
      ],
      "execution_count": null,
      "outputs": [
        {
          "output_type": "stream",
          "text": [
            "Litecoin Mean Square Error: 94.27937811764542\n",
            "Litecoin Root Mean Square Error: 9.70975685162329\n",
            "Litecoin Mean Predicted Closing Price: 207.64442443847656\n"
          ],
          "name": "stdout"
        }
      ]
    },
    {
      "cell_type": "code",
      "metadata": {
        "colab": {
          "base_uri": "https://localhost:8080/",
          "height": 385
        },
        "id": "bKOnLmTKAzxs",
        "outputId": "3ca59be7-f9b6-4e76-c801-bff3379c170b"
      },
      "source": [
        "# Plot Litecoin real vs predicted prices\n",
        "ltc_predict.plot(title=\"LSTM Litecoin Real vs. Predicted Closing Prices\", figsize=(10,5), ylabel=\"Price\");"
      ],
      "execution_count": null,
      "outputs": [
        {
          "output_type": "display_data",
          "data": {
            "image/png": "[encoded data removed]",
            "text/plain": [
              "<Figure size 720x360 with 1 Axes>"
            ]
          },
          "metadata": {
            "tags": [],
            "needs_background": "light"
          }
        }
      ]
    },
    {
      "cell_type": "code",
      "metadata": {
        "id": "MA94MqqvRzAs"
      },
      "source": [
        ""
      ],
      "execution_count": null,
      "outputs": []
    }
  ]
}