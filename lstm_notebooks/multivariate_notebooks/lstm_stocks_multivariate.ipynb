{
  "nbformat": 4,
  "nbformat_minor": 0,
  "metadata": {
    "colab": {
      "name": "lstm_stocks_multivariate.ipynb",
      "provenance": []
    },
    "kernelspec": {
      "name": "python3",
      "display_name": "Python 3"
    },
    "language_info": {
      "name": "python"
    }
  },
  "cells": [
    {
      "cell_type": "markdown",
      "metadata": {
        "id": "kEK0GjpFaRq-"
      },
      "source": [
        "# LSTM Multivariate Model for Amazon, Google and Microsoft Stocks"
      ]
    },
    {
      "cell_type": "code",
      "metadata": {
        "id": "UJFmtjsqaoLS"
      },
      "source": [
        "# Import libraries\n",
        "from pathlib import Path\n",
        "import pandas as pd\n",
        "import numpy as np\n",
        "import hvplot.pandas\n",
        "import math\n",
        "from sklearn.metrics import mean_squared_error\n",
        "from sklearn.preprocessing import MinMaxScaler\n",
        "from tensorflow.keras.models import Sequential\n",
        "from tensorflow.keras.layers import LSTM, Dense, Dropout"
      ],
      "execution_count": null,
      "outputs": []
    },
    {
      "cell_type": "code",
      "metadata": {
        "id": "nOGawCBNf7mN"
      },
      "source": [
        "# Assign random seed for reproducibility \n",
        "from numpy.random import seed\n",
        "seed(1)\n",
        "from tensorflow import random\n",
        "random.set_seed(2)"
      ],
      "execution_count": null,
      "outputs": []
    },
    {
      "cell_type": "code",
      "metadata": {
        "colab": {
          "base_uri": "https://localhost:8080/"
        },
        "id": "9n21iD2MbjDQ",
        "outputId": "771f2046-7298-447a-ca17-20eb328c6096"
      },
      "source": [
        "# Mount Drive\n",
        "from google.colab import drive\n",
        "drive.mount(\"/content/drive\")"
      ],
      "execution_count": null,
      "outputs": [
        {
          "output_type": "stream",
          "text": [
            "Drive already mounted at /content/drive; to attempt to forcibly remount, call drive.mount(\"/content/drive\", force_remount=True).\n"
          ],
          "name": "stdout"
        }
      ]
    },
    {
      "cell_type": "markdown",
      "metadata": {
        "id": "HYZs7kz5g98H"
      },
      "source": [
        "## Data Clean Up"
      ]
    },
    {
      "cell_type": "code",
      "metadata": {
        "colab": {
          "base_uri": "https://localhost:8080/",
          "height": 235
        },
        "id": "vZQud5PFaqLA",
        "outputId": "613ecf97-f750-4722-8697-b7df6e00c6e3"
      },
      "source": [
        "# Define CSV path and write to a Dataframe\n",
        "csv_path = Path(\"/content/drive/MyDrive/Group_Project_2/AMZN_GOOG_MSFT_historical_data.csv\")\n",
        "stocks_df = pd.read_csv(csv_path, index_col=\"Date\", infer_datetime_format=True, parse_dates=True)\n",
        "stocks_df.head()"
      ],
      "execution_count": null,
      "outputs": [
        {
          "output_type": "execute_result",
          "data": {
            "text/html": [
              "<div>\n",
              "<style scoped>\n",
              "    .dataframe tbody tr th:only-of-type {\n",
              "        vertical-align: middle;\n",
              "    }\n",
              "\n",
              "    .dataframe tbody tr th {\n",
              "        vertical-align: top;\n",
              "    }\n",
              "\n",
              "    .dataframe thead th {\n",
              "        text-align: right;\n",
              "    }\n",
              "</style>\n",
              "<table border=\"1\" class=\"dataframe\">\n",
              "  <thead>\n",
              "    <tr style=\"text-align: right;\">\n",
              "      <th></th>\n",
              "      <th>AMZN</th>\n",
              "      <th>MSFT</th>\n",
              "      <th>GOOGL</th>\n",
              "    </tr>\n",
              "    <tr>\n",
              "      <th>Date</th>\n",
              "      <th></th>\n",
              "      <th></th>\n",
              "      <th></th>\n",
              "    </tr>\n",
              "  </thead>\n",
              "  <tbody>\n",
              "    <tr>\n",
              "      <th>2016-01-04</th>\n",
              "      <td>636.73</td>\n",
              "      <td>54.790</td>\n",
              "      <td>759.41</td>\n",
              "    </tr>\n",
              "    <tr>\n",
              "      <th>2016-01-05</th>\n",
              "      <td>633.79</td>\n",
              "      <td>55.050</td>\n",
              "      <td>761.52</td>\n",
              "    </tr>\n",
              "    <tr>\n",
              "      <th>2016-01-06</th>\n",
              "      <td>632.81</td>\n",
              "      <td>54.075</td>\n",
              "      <td>759.30</td>\n",
              "    </tr>\n",
              "    <tr>\n",
              "      <th>2016-01-07</th>\n",
              "      <td>607.84</td>\n",
              "      <td>52.190</td>\n",
              "      <td>741.00</td>\n",
              "    </tr>\n",
              "    <tr>\n",
              "      <th>2016-01-08</th>\n",
              "      <td>607.23</td>\n",
              "      <td>52.330</td>\n",
              "      <td>730.92</td>\n",
              "    </tr>\n",
              "  </tbody>\n",
              "</table>\n",
              "</div>"
            ],
            "text/plain": [
              "              AMZN    MSFT   GOOGL\n",
              "Date                              \n",
              "2016-01-04  636.73  54.790  759.41\n",
              "2016-01-05  633.79  55.050  761.52\n",
              "2016-01-06  632.81  54.075  759.30\n",
              "2016-01-07  607.84  52.190  741.00\n",
              "2016-01-08  607.23  52.330  730.92"
            ]
          },
          "metadata": {
            "tags": []
          },
          "execution_count": 67
        }
      ]
    },
    {
      "cell_type": "code",
      "metadata": {
        "id": "a0_6JI98eWMf"
      },
      "source": [
        "# Create individual DataFrames\n",
        "amzn_df = stocks_df.drop(columns=['MSFT', 'GOOGL'])\n",
        "msft_df = stocks_df.drop(columns=['AMZN', 'GOOGL'])\n",
        "googl_df = stocks_df.drop(columns=['MSFT', 'AMZN'])"
      ],
      "execution_count": null,
      "outputs": []
    },
    {
      "cell_type": "code",
      "metadata": {
        "id": "Bm7b1cLgwz-u"
      },
      "source": [
        "# Create list of DataFrames\n",
        "dfs = [amzn_df, msft_df, googl_df]"
      ],
      "execution_count": null,
      "outputs": []
    },
    {
      "cell_type": "markdown",
      "metadata": {
        "id": "YsDjGum6hJqo"
      },
      "source": [
        "## Data Prep"
      ]
    },
    {
      "cell_type": "code",
      "metadata": {
        "id": "Sh9TdiuQyNrU"
      },
      "source": [
        "# Function to calculate RSI\n",
        "def relative_strength_idx(df, n=14):\n",
        "    close = df\n",
        "    delta = close.diff()\n",
        "    delta = delta[1:]\n",
        "    pricesUp = delta.copy()\n",
        "    pricesDown = delta.copy()\n",
        "    pricesUp[pricesUp < 0] = 0\n",
        "    pricesDown[pricesDown > 0] = 0\n",
        "    rollUp = pricesUp.rolling(n).mean()\n",
        "    rollDown = pricesDown.abs().rolling(n).mean()\n",
        "    rs = rollUp / rollDown\n",
        "    rsi = 100.0 - (100.0 / (1.0 + rs))\n",
        "    return rsi"
      ],
      "execution_count": null,
      "outputs": []
    },
    {
      "cell_type": "code",
      "metadata": {
        "id": "_cD70goAxn5b"
      },
      "source": [
        "# Create EMA and RSI columns\n",
        "for df in dfs: \n",
        "  df['EMA_5'] = df.ewm(5).mean().shift()\n",
        "  df_rsi = relative_strength_idx(df, n=14) \n",
        "  df['RSI'] = df_rsi[df_rsi.columns[0]]"
      ],
      "execution_count": null,
      "outputs": []
    },
    {
      "cell_type": "code",
      "metadata": {
        "id": "ALv6cE3GlXpD"
      },
      "source": [
        "# Build the LSTM model. \n",
        "\n",
        "def lstm_model(X_train):\n",
        "  model = Sequential()\n",
        "\n",
        "  number_units = 35\n",
        "  dropout_fraction = 0.3\n",
        "\n",
        "  # Layer 1\n",
        "  model.add(LSTM(\n",
        "      units=number_units,\n",
        "      return_sequences=True,\n",
        "      input_shape=(X_train.shape[1], 1))\n",
        "      )\n",
        "  model.add(Dropout(dropout_fraction))\n",
        "  # Layer 2\n",
        "  model.add(LSTM(units=number_units, return_sequences=True))\n",
        "  model.add(Dropout(dropout_fraction))\n",
        "  # Layer 3\n",
        "  model.add(LSTM(units=number_units, return_sequences=True))\n",
        "  model.add(Dropout(dropout_fraction))\n",
        "  # Layer 4\n",
        "  model.add(LSTM(units=number_units))\n",
        "  model.add(Dropout(dropout_fraction))\n",
        "\n",
        "  model.add(Dense(1))\n",
        "\n",
        "  return model\n",
        "  "
      ],
      "execution_count": null,
      "outputs": []
    },
    {
      "cell_type": "markdown",
      "metadata": {
        "id": "_MLSMhPHhSMH"
      },
      "source": [
        "## Run the Model"
      ]
    },
    {
      "cell_type": "code",
      "metadata": {
        "colab": {
          "base_uri": "https://localhost:8080/"
        },
        "id": "hB42HF2zgeP_",
        "outputId": "a694e23a-9521-430b-8b71-ff3f77053fe9"
      },
      "source": [
        "# Predict Closing Prices\n",
        "\n",
        "scalers = {}\n",
        "test = []\n",
        "pred_results = []\n",
        "\n",
        "for df in dfs:\n",
        "  scaler = MinMaxScaler()\n",
        "\n",
        "  # Slice the data for after the shock\n",
        "  df = df.loc['2020-03-01': '2021-05-03']\n",
        "\n",
        "  # Split data into feature(X) and target(y)\n",
        "  X = df\n",
        "  y = df.iloc[:,0]\n",
        "  y = np.array(y).reshape(-1,1)\n",
        "\n",
        "  # Split into training and testing sets\n",
        "  split_ratio = 0.8\n",
        "  split = int(split_ratio * len(X))\n",
        "  X_train = X[: split]\n",
        "  X_test = X[split:]\n",
        "  y_train = y[: split]\n",
        "  y_test = y[split:]\n",
        "\n",
        "  # Scale the data\n",
        "  scaler.fit(X)\n",
        "  X_train = scaler.transform(X_train)\n",
        "  X_test = scaler.transform(X_test)\n",
        "  scaler.fit(y)\n",
        "  y_train = scaler.transform(y_train)\n",
        "  y_test = scaler.transform(y_test)\n",
        "  \n",
        "  test.append(y_test)\n",
        "\n",
        "  scalers[df.columns[0]]=scaler\n",
        "\n",
        "  # Reshape the data\n",
        "  X_train = X_train.reshape((X_train.shape[0], X_train.shape[1], 1))\n",
        "  X_test = X_test.reshape((X_test.shape[0], X_test.shape[1], 1))\n",
        "\n",
        "  # Call the LSTM model function\n",
        "  model = lstm_model(X_train)\n",
        "\n",
        "  # Compile the model\n",
        "  model.compile(optimizer=\"adamax\", loss=\"mean_squared_error\")\n",
        "\n",
        "  # Fit the model\n",
        "  model.fit(X_train, y_train, epochs=25, shuffle=False, batch_size=2)\n",
        "\n",
        "  print(model.evaluate(X_test, y_test))\n",
        "\n",
        "  # Make predictions\n",
        "  predicted = model.predict(X_test)\n",
        "\n",
        "  pred_results.append(predicted)"
      ],
      "execution_count": null,
      "outputs": [
        {
          "output_type": "stream",
          "text": [
            "Epoch 1/25\n",
            "118/118 [==============================] - 7s 7ms/step - loss: 0.0715\n",
            "Epoch 2/25\n",
            "118/118 [==============================] - 1s 7ms/step - loss: 0.1242\n",
            "Epoch 3/25\n",
            "118/118 [==============================] - 1s 7ms/step - loss: 0.1069\n",
            "Epoch 4/25\n",
            "118/118 [==============================] - 1s 7ms/step - loss: 0.0839\n",
            "Epoch 5/25\n",
            "118/118 [==============================] - 1s 7ms/step - loss: 0.0652\n",
            "Epoch 6/25\n",
            "118/118 [==============================] - 1s 7ms/step - loss: 0.0580\n",
            "Epoch 7/25\n",
            "118/118 [==============================] - 1s 7ms/step - loss: 0.0487\n",
            "Epoch 8/25\n",
            "118/118 [==============================] - 1s 8ms/step - loss: 0.0412\n",
            "Epoch 9/25\n",
            "118/118 [==============================] - 1s 7ms/step - loss: 0.0280\n",
            "Epoch 10/25\n",
            "118/118 [==============================] - 1s 7ms/step - loss: 0.0220\n",
            "Epoch 11/25\n",
            "118/118 [==============================] - 1s 8ms/step - loss: 0.0132\n",
            "Epoch 12/25\n",
            "118/118 [==============================] - 1s 7ms/step - loss: 0.0115\n",
            "Epoch 13/25\n",
            "118/118 [==============================] - 1s 7ms/step - loss: 0.0115\n",
            "Epoch 14/25\n",
            "118/118 [==============================] - 1s 6ms/step - loss: 0.0099\n",
            "Epoch 15/25\n",
            "118/118 [==============================] - 1s 7ms/step - loss: 0.0107\n",
            "Epoch 16/25\n",
            "118/118 [==============================] - 1s 7ms/step - loss: 0.0087\n",
            "Epoch 17/25\n",
            "118/118 [==============================] - 1s 7ms/step - loss: 0.0078\n",
            "Epoch 18/25\n",
            "118/118 [==============================] - 1s 6ms/step - loss: 0.0075\n",
            "Epoch 19/25\n",
            "118/118 [==============================] - 1s 7ms/step - loss: 0.0092\n",
            "Epoch 20/25\n",
            "118/118 [==============================] - 1s 7ms/step - loss: 0.0063\n",
            "Epoch 21/25\n",
            "118/118 [==============================] - 1s 7ms/step - loss: 0.0078\n",
            "Epoch 22/25\n",
            "118/118 [==============================] - 1s 8ms/step - loss: 0.0067\n",
            "Epoch 23/25\n",
            "118/118 [==============================] - 1s 7ms/step - loss: 0.0094\n",
            "Epoch 24/25\n",
            "118/118 [==============================] - 1s 7ms/step - loss: 0.0060\n",
            "Epoch 25/25\n",
            "118/118 [==============================] - 1s 7ms/step - loss: 0.0055\n",
            "WARNING:tensorflow:6 out of the last 11 calls to <function Model.make_test_function.<locals>.test_function at 0x7f5a91fab050> triggered tf.function retracing. Tracing is expensive and the excessive number of tracings could be due to (1) creating @tf.function repeatedly in a loop, (2) passing tensors with different shapes, (3) passing Python objects instead of tensors. For (1), please define your @tf.function outside of the loop. For (2), @tf.function has experimental_relax_shapes=True option that relaxes argument shapes that can avoid unnecessary retracing. For (3), please refer to https://www.tensorflow.org/guide/function#controlling_retracing and https://www.tensorflow.org/api_docs/python/tf/function for  more details.\n",
            "2/2 [==============================] - 3s 10ms/step - loss: 2.7629e-04\n",
            "0.0002762941876426339\n",
            "WARNING:tensorflow:6 out of the last 11 calls to <function Model.make_predict_function.<locals>.predict_function at 0x7f5a9183cd40> triggered tf.function retracing. Tracing is expensive and the excessive number of tracings could be due to (1) creating @tf.function repeatedly in a loop, (2) passing tensors with different shapes, (3) passing Python objects instead of tensors. For (1), please define your @tf.function outside of the loop. For (2), @tf.function has experimental_relax_shapes=True option that relaxes argument shapes that can avoid unnecessary retracing. For (3), please refer to https://www.tensorflow.org/guide/function#controlling_retracing and https://www.tensorflow.org/api_docs/python/tf/function for  more details.\n",
            "Epoch 1/25\n",
            "118/118 [==============================] - 6s 7ms/step - loss: 0.0439\n",
            "Epoch 2/25\n",
            "118/118 [==============================] - 1s 7ms/step - loss: 0.0830\n",
            "Epoch 3/25\n",
            "118/118 [==============================] - 1s 7ms/step - loss: 0.0636\n",
            "Epoch 4/25\n",
            "118/118 [==============================] - 1s 7ms/step - loss: 0.0560\n",
            "Epoch 5/25\n",
            "118/118 [==============================] - 1s 7ms/step - loss: 0.0436\n",
            "Epoch 6/25\n",
            "118/118 [==============================] - 1s 7ms/step - loss: 0.0336\n",
            "Epoch 7/25\n",
            "118/118 [==============================] - 1s 7ms/step - loss: 0.0267\n",
            "Epoch 8/25\n",
            "118/118 [==============================] - 1s 8ms/step - loss: 0.0219\n",
            "Epoch 9/25\n",
            "118/118 [==============================] - 1s 8ms/step - loss: 0.0161\n",
            "Epoch 10/25\n",
            "118/118 [==============================] - 1s 7ms/step - loss: 0.0150\n",
            "Epoch 11/25\n",
            "118/118 [==============================] - 1s 7ms/step - loss: 0.0092\n",
            "Epoch 12/25\n",
            "118/118 [==============================] - 1s 6ms/step - loss: 0.0096\n",
            "Epoch 13/25\n",
            "118/118 [==============================] - 1s 7ms/step - loss: 0.0076\n",
            "Epoch 14/25\n",
            "118/118 [==============================] - 1s 7ms/step - loss: 0.0078\n",
            "Epoch 15/25\n",
            "118/118 [==============================] - 1s 7ms/step - loss: 0.0082\n",
            "Epoch 16/25\n",
            "118/118 [==============================] - 1s 7ms/step - loss: 0.0063\n",
            "Epoch 17/25\n",
            "118/118 [==============================] - 1s 7ms/step - loss: 0.0067\n",
            "Epoch 18/25\n",
            "118/118 [==============================] - 1s 7ms/step - loss: 0.0054\n",
            "Epoch 19/25\n",
            "118/118 [==============================] - 1s 7ms/step - loss: 0.0082\n",
            "Epoch 20/25\n",
            "118/118 [==============================] - 1s 7ms/step - loss: 0.0050\n",
            "Epoch 21/25\n",
            "118/118 [==============================] - 1s 7ms/step - loss: 0.0062\n",
            "Epoch 22/25\n",
            "118/118 [==============================] - 1s 8ms/step - loss: 0.0049\n",
            "Epoch 23/25\n",
            "118/118 [==============================] - 1s 7ms/step - loss: 0.0070\n",
            "Epoch 24/25\n",
            "118/118 [==============================] - 1s 7ms/step - loss: 0.0052\n",
            "Epoch 25/25\n",
            "118/118 [==============================] - 1s 7ms/step - loss: 0.0045\n",
            "WARNING:tensorflow:6 out of the last 11 calls to <function Model.make_test_function.<locals>.test_function at 0x7f5a95e7cb00> triggered tf.function retracing. Tracing is expensive and the excessive number of tracings could be due to (1) creating @tf.function repeatedly in a loop, (2) passing tensors with different shapes, (3) passing Python objects instead of tensors. For (1), please define your @tf.function outside of the loop. For (2), @tf.function has experimental_relax_shapes=True option that relaxes argument shapes that can avoid unnecessary retracing. For (3), please refer to https://www.tensorflow.org/guide/function#controlling_retracing and https://www.tensorflow.org/api_docs/python/tf/function for  more details.\n",
            "2/2 [==============================] - 2s 11ms/step - loss: 8.1866e-05\n",
            "8.186621562344953e-05\n",
            "WARNING:tensorflow:6 out of the last 11 calls to <function Model.make_predict_function.<locals>.predict_function at 0x7f5a93c71b00> triggered tf.function retracing. Tracing is expensive and the excessive number of tracings could be due to (1) creating @tf.function repeatedly in a loop, (2) passing tensors with different shapes, (3) passing Python objects instead of tensors. For (1), please define your @tf.function outside of the loop. For (2), @tf.function has experimental_relax_shapes=True option that relaxes argument shapes that can avoid unnecessary retracing. For (3), please refer to https://www.tensorflow.org/guide/function#controlling_retracing and https://www.tensorflow.org/api_docs/python/tf/function for  more details.\n",
            "Epoch 1/25\n",
            "118/118 [==============================] - 6s 6ms/step - loss: 0.0144\n",
            "Epoch 2/25\n",
            "118/118 [==============================] - 1s 7ms/step - loss: 0.0655\n",
            "Epoch 3/25\n",
            "118/118 [==============================] - 1s 7ms/step - loss: 0.0455\n",
            "Epoch 4/25\n",
            "118/118 [==============================] - 1s 7ms/step - loss: 0.0397\n",
            "Epoch 5/25\n",
            "118/118 [==============================] - 1s 7ms/step - loss: 0.0299\n",
            "Epoch 6/25\n",
            "118/118 [==============================] - 1s 7ms/step - loss: 0.0245\n",
            "Epoch 7/25\n",
            "118/118 [==============================] - 1s 8ms/step - loss: 0.0176\n",
            "Epoch 8/25\n",
            "118/118 [==============================] - 1s 7ms/step - loss: 0.0157\n",
            "Epoch 9/25\n",
            "118/118 [==============================] - 1s 7ms/step - loss: 0.0114\n",
            "Epoch 10/25\n",
            "118/118 [==============================] - 1s 7ms/step - loss: 0.0101\n",
            "Epoch 11/25\n",
            "118/118 [==============================] - 1s 7ms/step - loss: 0.0056\n",
            "Epoch 12/25\n",
            "118/118 [==============================] - 1s 7ms/step - loss: 0.0055\n",
            "Epoch 13/25\n",
            "118/118 [==============================] - 1s 6ms/step - loss: 0.0036\n",
            "Epoch 14/25\n",
            "118/118 [==============================] - 1s 7ms/step - loss: 0.0036\n",
            "Epoch 15/25\n",
            "118/118 [==============================] - 1s 7ms/step - loss: 0.0038\n",
            "Epoch 16/25\n",
            "118/118 [==============================] - 1s 7ms/step - loss: 0.0026\n",
            "Epoch 17/25\n",
            "118/118 [==============================] - 1s 7ms/step - loss: 0.0028\n",
            "Epoch 18/25\n",
            "118/118 [==============================] - 1s 7ms/step - loss: 0.0021\n",
            "Epoch 19/25\n",
            "118/118 [==============================] - 1s 8ms/step - loss: 0.0039\n",
            "Epoch 20/25\n",
            "118/118 [==============================] - 1s 7ms/step - loss: 0.0020\n",
            "Epoch 21/25\n",
            "118/118 [==============================] - 1s 7ms/step - loss: 0.0024\n",
            "Epoch 22/25\n",
            "118/118 [==============================] - 1s 7ms/step - loss: 0.0025\n",
            "Epoch 23/25\n",
            "118/118 [==============================] - 1s 7ms/step - loss: 0.0040\n",
            "Epoch 24/25\n",
            "118/118 [==============================] - 1s 7ms/step - loss: 0.0026\n",
            "Epoch 25/25\n",
            "118/118 [==============================] - 1s 7ms/step - loss: 0.0018\n",
            "WARNING:tensorflow:6 out of the last 11 calls to <function Model.make_test_function.<locals>.test_function at 0x7f5a9215cc20> triggered tf.function retracing. Tracing is expensive and the excessive number of tracings could be due to (1) creating @tf.function repeatedly in a loop, (2) passing tensors with different shapes, (3) passing Python objects instead of tensors. For (1), please define your @tf.function outside of the loop. For (2), @tf.function has experimental_relax_shapes=True option that relaxes argument shapes that can avoid unnecessary retracing. For (3), please refer to https://www.tensorflow.org/guide/function#controlling_retracing and https://www.tensorflow.org/api_docs/python/tf/function for  more details.\n",
            "2/2 [==============================] - 2s 6ms/step - loss: 1.6614e-04\n",
            "0.00016614173364359885\n",
            "WARNING:tensorflow:6 out of the last 11 calls to <function Model.make_predict_function.<locals>.predict_function at 0x7f5a91b1ab90> triggered tf.function retracing. Tracing is expensive and the excessive number of tracings could be due to (1) creating @tf.function repeatedly in a loop, (2) passing tensors with different shapes, (3) passing Python objects instead of tensors. For (1), please define your @tf.function outside of the loop. For (2), @tf.function has experimental_relax_shapes=True option that relaxes argument shapes that can avoid unnecessary retracing. For (3), please refer to https://www.tensorflow.org/guide/function#controlling_retracing and https://www.tensorflow.org/api_docs/python/tf/function for  more details.\n"
          ],
          "name": "stdout"
        }
      ]
    },
    {
      "cell_type": "markdown",
      "metadata": {
        "id": "9AbJHkWkhZIf"
      },
      "source": [
        "## Review Results"
      ]
    },
    {
      "cell_type": "code",
      "metadata": {
        "id": "UaafpvytmkNj"
      },
      "source": [
        "# Recover the original Amazon prices\n",
        "amzn_predicted = scalers[\"AMZN\"].inverse_transform(pred_results[0]).ravel()\n",
        "amzn_real = scalers[\"AMZN\"].inverse_transform(test[0].reshape(-1, 1)).ravel()"
      ],
      "execution_count": null,
      "outputs": []
    },
    {
      "cell_type": "code",
      "metadata": {
        "id": "kCCuMtEXmvwp",
        "colab": {
          "base_uri": "https://localhost:8080/",
          "height": 235
        },
        "outputId": "71a101fc-c582-4859-fca6-cd77dc6865a7"
      },
      "source": [
        "# Create DataFrame of Amazon real and predicted values\n",
        "amzn_predict = pd.DataFrame({\n",
        "    \"Real\": amzn_real,\n",
        "    \"Predicted\": amzn_predicted\n",
        "}, index = amzn_df.index[-len(amzn_real): ]) \n",
        "amzn_predict.head()"
      ],
      "execution_count": null,
      "outputs": [
        {
          "output_type": "execute_result",
          "data": {
            "text/html": [
              "<div>\n",
              "<style scoped>\n",
              "    .dataframe tbody tr th:only-of-type {\n",
              "        vertical-align: middle;\n",
              "    }\n",
              "\n",
              "    .dataframe tbody tr th {\n",
              "        vertical-align: top;\n",
              "    }\n",
              "\n",
              "    .dataframe thead th {\n",
              "        text-align: right;\n",
              "    }\n",
              "</style>\n",
              "<table border=\"1\" class=\"dataframe\">\n",
              "  <thead>\n",
              "    <tr style=\"text-align: right;\">\n",
              "      <th></th>\n",
              "      <th>Real</th>\n",
              "      <th>Predicted</th>\n",
              "    </tr>\n",
              "    <tr>\n",
              "      <th>Date</th>\n",
              "      <th></th>\n",
              "      <th></th>\n",
              "    </tr>\n",
              "  </thead>\n",
              "  <tbody>\n",
              "    <tr>\n",
              "      <th>2021-02-09</th>\n",
              "      <td>3352.49</td>\n",
              "      <td>3322.351807</td>\n",
              "    </tr>\n",
              "    <tr>\n",
              "      <th>2021-02-10</th>\n",
              "      <td>3323.49</td>\n",
              "      <td>3302.642090</td>\n",
              "    </tr>\n",
              "    <tr>\n",
              "      <th>2021-02-11</th>\n",
              "      <td>3305.00</td>\n",
              "      <td>3275.447510</td>\n",
              "    </tr>\n",
              "    <tr>\n",
              "      <th>2021-02-12</th>\n",
              "      <td>3286.59</td>\n",
              "      <td>3255.835205</td>\n",
              "    </tr>\n",
              "    <tr>\n",
              "      <th>2021-02-16</th>\n",
              "      <td>3261.65</td>\n",
              "      <td>3239.039307</td>\n",
              "    </tr>\n",
              "  </tbody>\n",
              "</table>\n",
              "</div>"
            ],
            "text/plain": [
              "               Real    Predicted\n",
              "Date                            \n",
              "2021-02-09  3352.49  3322.351807\n",
              "2021-02-10  3323.49  3302.642090\n",
              "2021-02-11  3305.00  3275.447510\n",
              "2021-02-12  3286.59  3255.835205\n",
              "2021-02-16  3261.65  3239.039307"
            ]
          },
          "metadata": {
            "tags": []
          },
          "execution_count": 76
        }
      ]
    },
    {
      "cell_type": "code",
      "metadata": {
        "id": "8_00SujiokLW",
        "colab": {
          "base_uri": "https://localhost:8080/"
        },
        "outputId": "0e345111-0100-419b-daf4-ec2316d4bcc7"
      },
      "source": [
        "# Calculate Amazon MSE & RMSE\n",
        "amzn_mse = mean_squared_error(amzn_real, amzn_predicted)\n",
        "amzn_rmse = math.sqrt(amzn_mse)\n",
        "amzn_mean = amzn_predicted.mean()\n",
        "print(f\"Amazon Mean Square Error: {amzn_mse}\")\n",
        "print(f\"Amazon Root Mean Square Error: {amzn_rmse}\")\n",
        "print(f\"Amazon Mean Predicted Closing Price: {amzn_mean}\")"
      ],
      "execution_count": null,
      "outputs": [
        {
          "output_type": "stream",
          "text": [
            "Amazon Mean Square Error: 948.821609555773\n",
            "Amazon Root Mean Square Error: 30.802948065985063\n",
            "Amazon Mean Predicted Closing Price: 3193.033935546875\n"
          ],
          "name": "stdout"
        }
      ]
    },
    {
      "cell_type": "code",
      "metadata": {
        "id": "q0J4hLQ1LGJx",
        "colab": {
          "base_uri": "https://localhost:8080/",
          "height": 350
        },
        "outputId": "9f4257a2-e2d3-4fc5-faad-550c7dbacbef"
      },
      "source": [
        "# Plot the Amazon real vs predicted values as a line chart\n",
        "amzn_predict.plot(title=\"LSTM Amazon Real vs. Predicted Closing Price\", figsize=(10,5), ylabel=\"Price\");"
      ],
      "execution_count": null,
      "outputs": [
        {
          "output_type": "display_data",
          "data": {
            "image/png": "[encoded data removed]",
            "text/plain": [
              "<Figure size 720x360 with 1 Axes>"
            ]
          },
          "metadata": {
            "tags": [],
            "needs_background": "light"
          }
        }
      ]
    },
    {
      "cell_type": "code",
      "metadata": {
        "id": "XeZqXkv0QE_m"
      },
      "source": [
        "# Recover the original Google prices\n",
        "googl_predicted = scalers[\"GOOGL\"].inverse_transform(pred_results[1]).ravel()\n",
        "googl_real = scalers[\"GOOGL\"].inverse_transform(test[1].reshape(-1, 1)).ravel()"
      ],
      "execution_count": null,
      "outputs": []
    },
    {
      "cell_type": "code",
      "metadata": {
        "id": "VBKwMIXnQiwL",
        "colab": {
          "base_uri": "https://localhost:8080/",
          "height": 235
        },
        "outputId": "d657692a-ce73-45ea-ef9f-60ceddee01d1"
      },
      "source": [
        "# Create a DataFrame of Google real and predicted values\n",
        "googl_predict = pd.DataFrame({\n",
        "    \"Real\": googl_real,\n",
        "    \"Predicted\": googl_predicted\n",
        "}, index = googl_df.index[-len(googl_real): ]) \n",
        "googl_predict.head()"
      ],
      "execution_count": null,
      "outputs": [
        {
          "output_type": "execute_result",
          "data": {
            "text/html": [
              "<div>\n",
              "<style scoped>\n",
              "    .dataframe tbody tr th:only-of-type {\n",
              "        vertical-align: middle;\n",
              "    }\n",
              "\n",
              "    .dataframe tbody tr th {\n",
              "        vertical-align: top;\n",
              "    }\n",
              "\n",
              "    .dataframe thead th {\n",
              "        text-align: right;\n",
              "    }\n",
              "</style>\n",
              "<table border=\"1\" class=\"dataframe\">\n",
              "  <thead>\n",
              "    <tr style=\"text-align: right;\">\n",
              "      <th></th>\n",
              "      <th>Real</th>\n",
              "      <th>Predicted</th>\n",
              "    </tr>\n",
              "    <tr>\n",
              "      <th>Date</th>\n",
              "      <th></th>\n",
              "      <th></th>\n",
              "    </tr>\n",
              "  </thead>\n",
              "  <tbody>\n",
              "    <tr>\n",
              "      <th>2021-02-09</th>\n",
              "      <td>2182.987739</td>\n",
              "      <td>2203.843262</td>\n",
              "    </tr>\n",
              "    <tr>\n",
              "      <th>2021-02-10</th>\n",
              "      <td>2185.841977</td>\n",
              "      <td>2207.546875</td>\n",
              "    </tr>\n",
              "    <tr>\n",
              "      <th>2021-02-11</th>\n",
              "      <td>2199.901746</td>\n",
              "      <td>2215.548828</td>\n",
              "    </tr>\n",
              "    <tr>\n",
              "      <th>2021-02-12</th>\n",
              "      <td>2189.436204</td>\n",
              "      <td>2208.972412</td>\n",
              "    </tr>\n",
              "    <tr>\n",
              "      <th>2021-02-16</th>\n",
              "      <td>2207.513049</td>\n",
              "      <td>2223.663574</td>\n",
              "    </tr>\n",
              "  </tbody>\n",
              "</table>\n",
              "</div>"
            ],
            "text/plain": [
              "                   Real    Predicted\n",
              "Date                                \n",
              "2021-02-09  2182.987739  2203.843262\n",
              "2021-02-10  2185.841977  2207.546875\n",
              "2021-02-11  2199.901746  2215.548828\n",
              "2021-02-12  2189.436204  2208.972412\n",
              "2021-02-16  2207.513049  2223.663574"
            ]
          },
          "metadata": {
            "tags": []
          },
          "execution_count": 80
        }
      ]
    },
    {
      "cell_type": "code",
      "metadata": {
        "id": "_Ax_kdYynsw4",
        "colab": {
          "base_uri": "https://localhost:8080/"
        },
        "outputId": "ef1a1f6a-bab7-42ba-e8f6-d3b7a0424385"
      },
      "source": [
        "# Calculate Google MSE & RMSE\n",
        "googl_mse = mean_squared_error(googl_real, googl_predicted)\n",
        "googl_rmse = math.sqrt(googl_mse)\n",
        "googl_mean = googl_predicted.mean()\n",
        "print(f\"Google Mean Square Error: {googl_mse}\")\n",
        "print(f\"Google Root Mean Square Error: {googl_rmse}\")\n",
        "print(f\"Google Mean Predicted Closing Price: {googl_mean}\")"
      ],
      "execution_count": null,
      "outputs": [
        {
          "output_type": "stream",
          "text": [
            "Google Mean Square Error: 146.64337352675128\n",
            "Google Root Mean Square Error: 12.109639694340673\n",
            "Google Mean Predicted Closing Price: 2196.791259765625\n"
          ],
          "name": "stdout"
        }
      ]
    },
    {
      "cell_type": "code",
      "metadata": {
        "id": "mq0YnUeuRPu1",
        "colab": {
          "base_uri": "https://localhost:8080/",
          "height": 350
        },
        "outputId": "20633aee-9cab-4a36-cfd6-0c37e94cacbe"
      },
      "source": [
        "# Plot the Google real vs predicted values as a line chart\n",
        "googl_predict.plot(title=\"LSTM Google Real vs. Predicted Closing Price\", figsize=(10,5), ylabel=\"Price\");"
      ],
      "execution_count": null,
      "outputs": [
        {
          "output_type": "display_data",
          "data": {
            "image/png": "[encoded data removed]",
            "text/plain": [
              "<Figure size 720x360 with 1 Axes>"
            ]
          },
          "metadata": {
            "tags": [],
            "needs_background": "light"
          }
        }
      ]
    },
    {
      "cell_type": "code",
      "metadata": {
        "id": "4idFS0KhQTd5"
      },
      "source": [
        "# Recover the original Microsoft prices\n",
        "msft_predicted = scalers[\"MSFT\"].inverse_transform(pred_results[2]).ravel()\n",
        "msft_real = scalers[\"MSFT\"].inverse_transform(test[2].reshape(-1, 1)).ravel()"
      ],
      "execution_count": null,
      "outputs": []
    },
    {
      "cell_type": "code",
      "metadata": {
        "id": "1_AHk7WDQ7Q_",
        "colab": {
          "base_uri": "https://localhost:8080/",
          "height": 235
        },
        "outputId": "12dc65a8-1f9c-4bb7-ab27-26cf25889582"
      },
      "source": [
        "# Create a DataFrame of Microsoft real and predicted values\n",
        "msft_predict = pd.DataFrame({\n",
        "    \"Real\": msft_real,\n",
        "    \"Predicted\": msft_predicted\n",
        "}, index = msft_df.index[-len(msft_real): ]) \n",
        "msft_predict.head()"
      ],
      "execution_count": null,
      "outputs": [
        {
          "output_type": "execute_result",
          "data": {
            "text/html": [
              "<div>\n",
              "<style scoped>\n",
              "    .dataframe tbody tr th:only-of-type {\n",
              "        vertical-align: middle;\n",
              "    }\n",
              "\n",
              "    .dataframe tbody tr th {\n",
              "        vertical-align: top;\n",
              "    }\n",
              "\n",
              "    .dataframe thead th {\n",
              "        text-align: right;\n",
              "    }\n",
              "</style>\n",
              "<table border=\"1\" class=\"dataframe\">\n",
              "  <thead>\n",
              "    <tr style=\"text-align: right;\">\n",
              "      <th></th>\n",
              "      <th>Real</th>\n",
              "      <th>Predicted</th>\n",
              "    </tr>\n",
              "    <tr>\n",
              "      <th>Date</th>\n",
              "      <th></th>\n",
              "      <th></th>\n",
              "    </tr>\n",
              "  </thead>\n",
              "  <tbody>\n",
              "    <tr>\n",
              "      <th>2021-02-09</th>\n",
              "      <td>233.356420</td>\n",
              "      <td>231.917252</td>\n",
              "    </tr>\n",
              "    <tr>\n",
              "      <th>2021-02-10</th>\n",
              "      <td>232.885331</td>\n",
              "      <td>232.141068</td>\n",
              "    </tr>\n",
              "    <tr>\n",
              "      <th>2021-02-11</th>\n",
              "      <td>231.880720</td>\n",
              "      <td>231.358551</td>\n",
              "    </tr>\n",
              "    <tr>\n",
              "      <th>2021-02-12</th>\n",
              "      <td>233.075469</td>\n",
              "      <td>232.800568</td>\n",
              "    </tr>\n",
              "    <tr>\n",
              "      <th>2021-02-16</th>\n",
              "      <td>233.208850</td>\n",
              "      <td>233.374908</td>\n",
              "    </tr>\n",
              "  </tbody>\n",
              "</table>\n",
              "</div>"
            ],
            "text/plain": [
              "                  Real   Predicted\n",
              "Date                              \n",
              "2021-02-09  233.356420  231.917252\n",
              "2021-02-10  232.885331  232.141068\n",
              "2021-02-11  231.880720  231.358551\n",
              "2021-02-12  233.075469  232.800568\n",
              "2021-02-16  233.208850  233.374908"
            ]
          },
          "metadata": {
            "tags": []
          },
          "execution_count": 84
        }
      ]
    },
    {
      "cell_type": "code",
      "metadata": {
        "id": "Yp7f3ELLQtbG",
        "colab": {
          "base_uri": "https://localhost:8080/"
        },
        "outputId": "be7a80ac-2307-489f-f69e-2ef524791be7"
      },
      "source": [
        "# Calculate Microsoft MSE & RMSE\n",
        "msft_mse = mean_squared_error(msft_real, msft_predicted)\n",
        "msft_rmse = math.sqrt(msft_mse)\n",
        "msft_mean = msft_predicted.mean()\n",
        "print(f\"Microsoft Mean Square Error: {msft_mse}\")\n",
        "print(f\"Microsoft Root Mean Square Error: {msft_rmse}\")\n",
        "print(f\"Microsoft Mean Predicted Closing Price: {msft_mean}\")"
      ],
      "execution_count": null,
      "outputs": [
        {
          "output_type": "stream",
          "text": [
            "Microsoft Mean Square Error: 2.6630775570744563\n",
            "Microsoft Root Mean Square Error: 1.6318938559460465\n",
            "Microsoft Mean Predicted Closing Price: 238.74456787109375\n"
          ],
          "name": "stdout"
        }
      ]
    },
    {
      "cell_type": "code",
      "metadata": {
        "colab": {
          "base_uri": "https://localhost:8080/",
          "height": 350
        },
        "id": "wv6lTXaR4L3X",
        "outputId": "78673300-bab9-4d94-856d-288cab94b518"
      },
      "source": [
        "# Plot the Google real vs predicted values as a line chart\n",
        "msft_predict.plot(title=\"LSTM Microsoft Real vs. Predicted Closing Price\", figsize=(10,5), ylabel=\"Price\");"
      ],
      "execution_count": null,
      "outputs": [
        {
          "output_type": "display_data",
          "data": {
            "image/png": "[encoded data removed]",
            "text/plain": [
              "<Figure size 720x360 with 1 Axes>"
            ]
          },
          "metadata": {
            "tags": [],
            "needs_background": "light"
          }
        }
      ]
    },
    {
      "cell_type": "code",
      "metadata": {
        "id": "bwqOjavq4O1B"
      },
      "source": [
        ""
      ],
      "execution_count": null,
      "outputs": []
    }
  ]
}